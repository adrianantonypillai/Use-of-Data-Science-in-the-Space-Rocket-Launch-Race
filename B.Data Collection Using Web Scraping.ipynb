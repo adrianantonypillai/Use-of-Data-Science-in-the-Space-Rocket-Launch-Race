{
    "cells": [
        {
            "metadata": {},
            "cell_type": "markdown",
            "source": "<p style=\"text-align:center\">\n    <a href=\"https://skills.network/?utm_medium=Exinfluencer&utm_source=Exinfluencer&utm_content=000026UJ&utm_term=10006555&utm_id=NA-SkillsNetwork-Channel-SkillsNetworkCoursesIBMDS0321ENSkillsNetwork26802033-2022-01-01\" target=\"_blank\">\n    <img src=\"https://cf-courses-data.s3.us.cloud-object-storage.appdomain.cloud/assets/logos/SN_web_lightmode.png\" width=\"200\" alt=\"Skills Network Logo\"  />\n    </a>\n</p>\n"
        },
        {
            "metadata": {},
            "cell_type": "markdown",
            "source": "# **Space X  Falcon 9 First Stage Landing Prediction**\n"
        },
        {
            "metadata": {},
            "cell_type": "markdown",
            "source": "### Note: Click the following Link to open a shared Noteook for better clarity as the notebook style gets altered during git hub publish."
        },
        {
            "metadata": {},
            "cell_type": "markdown",
            "source": "## [Data Collection Using Web Scraping.ipynb](https://eu-de.dataplatform.cloud.ibm.com/analytics/notebooks/v2/1e402d1a-9d18-468a-9fb2-e853e3cee55a/view?access_token=938a2c685e91692497e0fb0ef2fc6c26ed639469f109b48be56010a3c7902a45)"
        },
        {
            "metadata": {},
            "cell_type": "markdown",
            "source": "## Web scraping Falcon 9 and Falcon Heavy Launches Records from Wikipedia\n"
        },
        {
            "metadata": {},
            "cell_type": "markdown",
            "source": "Estimated time needed: **40** minutes\n"
        },
        {
            "metadata": {},
            "cell_type": "markdown",
            "source": "In this lab, you will be performing web scraping to collect Falcon 9 historical launch records from a Wikipedia page titled `List of Falcon 9 and Falcon Heavy launches`\n\n[https://en.wikipedia.org/wiki/List_of_Falcon\\_9\\_and_Falcon_Heavy_launches](https://en.wikipedia.org/wiki/List_of_Falcon\\_9\\_and_Falcon_Heavy_launches?utm_medium=Exinfluencer&utm_source=Exinfluencer&utm_content=000026UJ&utm_term=10006555&utm_id=NA-SkillsNetwork-Channel-SkillsNetworkCoursesIBMDS0321ENSkillsNetwork26802033-2022-01-01)\n"
        },
        {
            "metadata": {},
            "cell_type": "markdown",
            "source": "![](https://cf-courses-data.s3.us.cloud-object-storage.appdomain.cloud/IBM-DS0321EN-SkillsNetwork/labs/module\\_1\\_L2/images/Falcon9\\_rocket_family.svg)\n"
        },
        {
            "metadata": {},
            "cell_type": "markdown",
            "source": "Falcon 9 first stage will land successfully\n"
        },
        {
            "metadata": {},
            "cell_type": "markdown",
            "source": "![](https://cf-courses-data.s3.us.cloud-object-storage.appdomain.cloud/IBMDeveloperSkillsNetwork-DS0701EN-SkillsNetwork/api/Images/landing\\_1.gif)\n"
        },
        {
            "metadata": {},
            "cell_type": "markdown",
            "source": "Several examples of an unsuccessful landing are shown here:\n"
        },
        {
            "metadata": {},
            "cell_type": "markdown",
            "source": "![](https://cf-courses-data.s3.us.cloud-object-storage.appdomain.cloud/IBMDeveloperSkillsNetwork-DS0701EN-SkillsNetwork/api/Images/crash.gif)\n"
        },
        {
            "metadata": {},
            "cell_type": "markdown",
            "source": "More specifically, the launch records are stored in a HTML table shown below:\n"
        },
        {
            "metadata": {},
            "cell_type": "markdown",
            "source": "![](https://cf-courses-data.s3.us.cloud-object-storage.appdomain.cloud/IBM-DS0321EN-SkillsNetwork/labs/module\\_1\\_L2/images/falcon9-launches-wiki.png)\n"
        },
        {
            "metadata": {},
            "cell_type": "markdown",
            "source": "## Objectives\n\nWeb scrap Falcon 9 launch records with `BeautifulSoup`:\n\n*   Extract a Falcon 9 launch records HTML table from Wikipedia\n*   Parse the table and convert it into a Pandas data frame\n"
        },
        {
            "metadata": {},
            "cell_type": "markdown",
            "source": "First let's import required packages for this lab\n"
        },
        {
            "metadata": {},
            "cell_type": "code",
            "source": "!pip3 install beautifulsoup4\n!pip3 install requests",
            "execution_count": 1,
            "outputs": [
                {
                    "output_type": "stream",
                    "text": "Requirement already satisfied: beautifulsoup4 in /opt/conda/envs/Python-3.9/lib/python3.9/site-packages (4.10.0)\nRequirement already satisfied: soupsieve>1.2 in /opt/conda/envs/Python-3.9/lib/python3.9/site-packages (from beautifulsoup4) (2.3.1)\nRequirement already satisfied: requests in /opt/conda/envs/Python-3.9/lib/python3.9/site-packages (2.26.0)\nRequirement already satisfied: certifi>=2017.4.17 in /opt/conda/envs/Python-3.9/lib/python3.9/site-packages (from requests) (2022.9.24)\nRequirement already satisfied: charset-normalizer~=2.0.0 in /opt/conda/envs/Python-3.9/lib/python3.9/site-packages (from requests) (2.0.4)\nRequirement already satisfied: idna<4,>=2.5 in /opt/conda/envs/Python-3.9/lib/python3.9/site-packages (from requests) (3.3)\nRequirement already satisfied: urllib3<1.27,>=1.21.1 in /opt/conda/envs/Python-3.9/lib/python3.9/site-packages (from requests) (1.26.7)\n",
                    "name": "stdout"
                }
            ]
        },
        {
            "metadata": {},
            "cell_type": "code",
            "source": "import sys\nimport requests\nfrom bs4 import BeautifulSoup\nimport re\nimport unicodedata\nimport pandas as pd",
            "execution_count": 2,
            "outputs": []
        },
        {
            "metadata": {},
            "cell_type": "markdown",
            "source": "and we will provide some helper functions for you to process web scraped HTML table\n"
        },
        {
            "metadata": {},
            "cell_type": "code",
            "source": "def date_time(table_cells):\n    \"\"\"\n    This function returns the data and time from the HTML  table cell\n    Input: the  element of a table data cell extracts extra row\n    \"\"\"\n    return [data_time.strip() for data_time in list(table_cells.strings)][0:2]\n\ndef booster_version(table_cells):\n    \"\"\"\n    This function returns the booster version from the HTML  table cell \n    Input: the  element of a table data cell extracts extra row\n    \"\"\"\n    out=''.join([booster_version for i,booster_version in enumerate( table_cells.strings) if i%2==0][0:-1])\n    return out\n\ndef landing_status(table_cells):\n    \"\"\"\n    This function returns the landing status from the HTML table cell \n    Input: the  element of a table data cell extracts extra row\n    \"\"\"\n    out=[i for i in table_cells.strings][0]\n    return out\n\n\ndef get_mass(table_cells):\n    mass=unicodedata.normalize(\"NFKD\", table_cells.text).strip()\n    if mass:\n        mass.find(\"kg\")\n        new_mass=mass[0:mass.find(\"kg\")+2]\n    else:\n        new_mass=0\n    return new_mass\n\n\ndef extract_column_from_header(row):\n    \"\"\"\n    This function returns the landing status from the HTML table cell \n    Input: the  element of a table data cell extracts extra row\n    \"\"\"\n    if (row.br):\n        row.br.extract()\n    if row.a:\n        row.a.extract()\n    if row.sup:\n        row.sup.extract()\n        \n    colunm_name = ' '.join(row.contents)\n    \n    # Filter the digit and empty names\n    if not(colunm_name.strip().isdigit()):\n        colunm_name = colunm_name.strip()\n        return colunm_name    \n",
            "execution_count": 3,
            "outputs": []
        },
        {
            "metadata": {},
            "cell_type": "markdown",
            "source": "To keep the lab tasks consistent, you will be asked to scrape the data from a snapshot of the  `List of Falcon 9 and Falcon Heavy launches` Wikipage updated on\n`9th June 2021`\n"
        },
        {
            "metadata": {},
            "cell_type": "code",
            "source": "static_url = \"https://en.wikipedia.org/w/index.php?title=List_of_Falcon_9_and_Falcon_Heavy_launches&oldid=1027686922\"",
            "execution_count": 4,
            "outputs": []
        },
        {
            "metadata": {},
            "cell_type": "markdown",
            "source": "Next, request the HTML page from the above URL and get a `response` object\n"
        },
        {
            "metadata": {},
            "cell_type": "markdown",
            "source": "### TASK 1: Request the Falcon9 Launch Wiki page from its URL\n"
        },
        {
            "metadata": {},
            "cell_type": "markdown",
            "source": "First, let's perform an HTTP GET method to request the Falcon9 Launch HTML page, as an HTTP response.\n"
        },
        {
            "metadata": {},
            "cell_type": "code",
            "source": "# use requests.get() method with the provided static_url\n# assign the response to a object\nstatic_response = requests.get(static_url).text",
            "execution_count": 5,
            "outputs": []
        },
        {
            "metadata": {},
            "cell_type": "markdown",
            "source": "Create a `BeautifulSoup` object from the HTML `response`\n"
        },
        {
            "metadata": {},
            "cell_type": "code",
            "source": "# Use BeautifulSoup() to create a BeautifulSoup object from a response text content\nsoup = BeautifulSoup(static_response, 'html.parser')",
            "execution_count": 6,
            "outputs": []
        },
        {
            "metadata": {},
            "cell_type": "markdown",
            "source": "Print the page title to verify if the `BeautifulSoup` object was created properly\n"
        },
        {
            "metadata": {},
            "cell_type": "code",
            "source": "# Use soup.title attribute\nprint(soup.title)",
            "execution_count": 7,
            "outputs": [
                {
                    "output_type": "stream",
                    "text": "<title>List of Falcon 9 and Falcon Heavy launches - Wikipedia</title>\n",
                    "name": "stdout"
                }
            ]
        },
        {
            "metadata": {},
            "cell_type": "markdown",
            "source": "### TASK 2: Extract all column/variable names from the HTML table header\n"
        },
        {
            "metadata": {},
            "cell_type": "markdown",
            "source": "Next, we want to collect all relevant column names from the HTML table header\n"
        },
        {
            "metadata": {},
            "cell_type": "markdown",
            "source": "Let's try to find all tables on the wiki page first. If you need to refresh your memory about `BeautifulSoup`, please check the external reference link towards the end of this lab\n"
        },
        {
            "metadata": {},
            "cell_type": "code",
            "source": "# Use the find_all function in the BeautifulSoup object, with element type `table`\n# Assign the result to a list called `html_tables`\nhtml_tables = soup.find_all(\"table\")",
            "execution_count": 8,
            "outputs": []
        },
        {
            "metadata": {},
            "cell_type": "markdown",
            "source": "Starting from the third table is our target table contains the actual launch records.\n"
        },
        {
            "metadata": {},
            "cell_type": "code",
            "source": "# Let's print the third table and check its content\nfirst_launch_table = html_tables[2]\nlen(first_launch_table)\nprint(first_launch_table)",
            "execution_count": 9,
            "outputs": [
                {
                    "output_type": "stream",
                    "text": "<table class=\"wikitable plainrowheaders collapsible\" style=\"width: 100%;\">\n<tbody><tr>\n<th scope=\"col\">Flight No.\n</th>\n<th scope=\"col\">Date and<br/>time (<a href=\"/wiki/Coordinated_Universal_Time\" title=\"Coordinated Universal Time\">UTC</a>)\n</th>\n<th scope=\"col\"><a href=\"/wiki/List_of_Falcon_9_first-stage_boosters\" title=\"List of Falcon 9 first-stage boosters\">Version,<br/>Booster</a> <sup class=\"reference\" id=\"cite_ref-booster_11-0\"><a href=\"#cite_note-booster-11\">[b]</a></sup>\n</th>\n<th scope=\"col\">Launch site\n</th>\n<th scope=\"col\">Payload<sup class=\"reference\" id=\"cite_ref-Dragon_12-0\"><a href=\"#cite_note-Dragon-12\">[c]</a></sup>\n</th>\n<th scope=\"col\">Payload mass\n</th>\n<th scope=\"col\">Orbit\n</th>\n<th scope=\"col\">Customer\n</th>\n<th scope=\"col\">Launch<br/>outcome\n</th>\n<th scope=\"col\"><a href=\"/wiki/Falcon_9_first-stage_landing_tests\" title=\"Falcon 9 first-stage landing tests\">Booster<br/>landing</a>\n</th></tr>\n<tr>\n<th rowspan=\"2\" scope=\"row\" style=\"text-align:center;\">1\n</th>\n<td>4 June 2010,<br/>18:45\n</td>\n<td><a href=\"/wiki/Falcon_9_v1.0\" title=\"Falcon 9 v1.0\">F9 v1.0</a><sup class=\"reference\" id=\"cite_ref-MuskMay2012_13-0\"><a href=\"#cite_note-MuskMay2012-13\">[7]</a></sup><br/>B0003.1<sup class=\"reference\" id=\"cite_ref-block_numbers_14-0\"><a href=\"#cite_note-block_numbers-14\">[8]</a></sup>\n</td>\n<td><a href=\"/wiki/Cape_Canaveral_Space_Force_Station\" title=\"Cape Canaveral Space Force Station\">CCAFS</a>,<br/><a href=\"/wiki/Cape_Canaveral_Space_Launch_Complex_40\" title=\"Cape Canaveral Space Launch Complex 40\">SLC-40</a>\n</td>\n<td><a href=\"/wiki/Dragon_Spacecraft_Qualification_Unit\" title=\"Dragon Spacecraft Qualification Unit\">Dragon Spacecraft Qualification Unit</a>\n</td>\n<td>\n</td>\n<td><a href=\"/wiki/Low_Earth_orbit\" title=\"Low Earth orbit\">LEO</a>\n</td>\n<td><a href=\"/wiki/SpaceX\" title=\"SpaceX\">SpaceX</a>\n</td>\n<td class=\"table-success\" style=\"background: #9EFF9E; vertical-align: middle; text-align: center;\">Success\n</td>\n<td class=\"table-failure\" style=\"background: #FFC7C7; vertical-align: middle; text-align: center;\">Failure<sup class=\"reference\" id=\"cite_ref-ns20110930_15-0\"><a href=\"#cite_note-ns20110930-15\">[9]</a></sup><sup class=\"reference\" id=\"cite_ref-16\"><a href=\"#cite_note-16\">[10]</a></sup><br/><small>(parachute)</small>\n</td></tr>\n<tr>\n<td colspan=\"9\">First flight of Falcon 9 v1.0.<sup class=\"reference\" id=\"cite_ref-sfn20100604_17-0\"><a href=\"#cite_note-sfn20100604-17\">[11]</a></sup> Used a boilerplate version of Dragon capsule which was not designed to separate from the second stage.<small>(<a href=\"#First_flight_of_Falcon_9\">more details below</a>)</small> Attempted to recover the first stage by parachuting it into the ocean, but it burned up on reentry, before the parachutes even deployed.<sup class=\"reference\" id=\"cite_ref-parachute_18-0\"><a href=\"#cite_note-parachute-18\">[12]</a></sup>\n</td></tr>\n<tr>\n<th rowspan=\"2\" scope=\"row\" style=\"text-align:center;\">2\n</th>\n<td>8 December 2010,<br/>15:43<sup class=\"reference\" id=\"cite_ref-spaceflightnow_Clark_Launch_Report_19-0\"><a href=\"#cite_note-spaceflightnow_Clark_Launch_Report-19\">[13]</a></sup>\n</td>\n<td><a href=\"/wiki/Falcon_9_v1.0\" title=\"Falcon 9 v1.0\">F9 v1.0</a><sup class=\"reference\" id=\"cite_ref-MuskMay2012_13-1\"><a href=\"#cite_note-MuskMay2012-13\">[7]</a></sup><br/>B0004.1<sup class=\"reference\" id=\"cite_ref-block_numbers_14-1\"><a href=\"#cite_note-block_numbers-14\">[8]</a></sup>\n</td>\n<td><a href=\"/wiki/Cape_Canaveral_Space_Force_Station\" title=\"Cape Canaveral Space Force Station\">CCAFS</a>,<br/><a href=\"/wiki/Cape_Canaveral_Space_Launch_Complex_40\" title=\"Cape Canaveral Space Launch Complex 40\">SLC-40</a>\n</td>\n<td><a href=\"/wiki/SpaceX_Dragon\" title=\"SpaceX Dragon\">Dragon</a> <a class=\"mw-redirect\" href=\"/wiki/COTS_Demo_Flight_1\" title=\"COTS Demo Flight 1\">demo flight C1</a><br/>(Dragon C101)\n</td>\n<td>\n</td>\n<td><a href=\"/wiki/Low_Earth_orbit\" title=\"Low Earth orbit\">LEO</a> (<a href=\"/wiki/International_Space_Station\" title=\"International Space Station\">ISS</a>)\n</td>\n<td><div class=\"plainlist\">\n<ul><li><a href=\"/wiki/NASA\" title=\"NASA\">NASA</a> (<a href=\"/wiki/Commercial_Orbital_Transportation_Services\" title=\"Commercial Orbital Transportation Services\">COTS</a>)</li>\n<li><a href=\"/wiki/National_Reconnaissance_Office\" title=\"National Reconnaissance Office\">NRO</a></li></ul>\n</div>\n</td>\n<td class=\"table-success\" style=\"background: #9EFF9E; vertical-align: middle; text-align: center;\">Success<sup class=\"reference\" id=\"cite_ref-ns20110930_15-1\"><a href=\"#cite_note-ns20110930-15\">[9]</a></sup>\n</td>\n<td class=\"table-failure\" style=\"background: #FFC7C7; vertical-align: middle; text-align: center;\">Failure<sup class=\"reference\" id=\"cite_ref-ns20110930_15-2\"><a href=\"#cite_note-ns20110930-15\">[9]</a></sup><sup class=\"reference\" id=\"cite_ref-20\"><a href=\"#cite_note-20\">[14]</a></sup><br/><small>(parachute)</small>\n</td></tr>\n<tr>\n<td colspan=\"9\">Maiden flight of <a class=\"mw-redirect\" href=\"/wiki/Dragon_capsule\" title=\"Dragon capsule\">Dragon capsule</a>, consisting of over 3 hours of testing thruster maneuvering and reentry.<sup class=\"reference\" id=\"cite_ref-spaceflightnow_Clark_unleashing_Dragon_21-0\"><a href=\"#cite_note-spaceflightnow_Clark_unleashing_Dragon-21\">[15]</a></sup> Attempted to recover the first stage by parachuting it into the ocean, but it disintegrated upon reentry, before the parachutes were deployed.<sup class=\"reference\" id=\"cite_ref-parachute_18-1\"><a href=\"#cite_note-parachute-18\">[12]</a></sup> <small>(<a href=\"#COTS_demo_missions\">more details below</a>)</small> It also included two <a href=\"/wiki/CubeSat\" title=\"CubeSat\">CubeSats</a>,<sup class=\"reference\" id=\"cite_ref-NRO_Taps_Boeing_for_Next_Batch_of_CubeSats_22-0\"><a href=\"#cite_note-NRO_Taps_Boeing_for_Next_Batch_of_CubeSats-22\">[16]</a></sup> and a wheel of <a href=\"/wiki/Brou%C3%A8re\" title=\"Brou\u00e8re\">Brou\u00e8re</a> cheese.\n</td></tr>\n<tr>\n<th rowspan=\"2\" scope=\"row\" style=\"text-align:center;\">3\n</th>\n<td>22 May 2012,<br/>07:44<sup class=\"reference\" id=\"cite_ref-BBC_new_era_23-0\"><a href=\"#cite_note-BBC_new_era-23\">[17]</a></sup>\n</td>\n<td><a href=\"/wiki/Falcon_9_v1.0\" title=\"Falcon 9 v1.0\">F9 v1.0</a><sup class=\"reference\" id=\"cite_ref-MuskMay2012_13-2\"><a href=\"#cite_note-MuskMay2012-13\">[7]</a></sup><br/>B0005.1<sup class=\"reference\" id=\"cite_ref-block_numbers_14-2\"><a href=\"#cite_note-block_numbers-14\">[8]</a></sup>\n</td>\n<td><a href=\"/wiki/Cape_Canaveral_Space_Force_Station\" title=\"Cape Canaveral Space Force Station\">CCAFS</a>,<br/><a href=\"/wiki/Cape_Canaveral_Space_Launch_Complex_40\" title=\"Cape Canaveral Space Launch Complex 40\">SLC-40</a>\n</td>\n<td><a href=\"/wiki/SpaceX_Dragon\" title=\"SpaceX Dragon\">Dragon</a> <a class=\"mw-redirect\" href=\"/wiki/Dragon_C2%2B\" title=\"Dragon C2+\">demo flight C2+</a><sup class=\"reference\" id=\"cite_ref-C2_24-0\"><a href=\"#cite_note-C2-24\">[18]</a></sup><br/>(Dragon C102)\n</td>\n<td>525\u00a0kg (1,157\u00a0lb)<sup class=\"reference\" id=\"cite_ref-25\"><a href=\"#cite_note-25\">[19]</a></sup>\n</td>\n<td><a href=\"/wiki/Low_Earth_orbit\" title=\"Low Earth orbit\">LEO</a> (<a href=\"/wiki/International_Space_Station\" title=\"International Space Station\">ISS</a>)\n</td>\n<td><a href=\"/wiki/NASA\" title=\"NASA\">NASA</a> (<a href=\"/wiki/Commercial_Orbital_Transportation_Services\" title=\"Commercial Orbital Transportation Services\">COTS</a>)\n</td>\n<td class=\"table-success\" style=\"background: #9EFF9E; vertical-align: middle; text-align: center;\">Success<sup class=\"reference\" id=\"cite_ref-26\"><a href=\"#cite_note-26\">[20]</a></sup>\n</td>\n<td class=\"table-noAttempt\" style=\"background: #EEE; vertical-align: middle; white-space: nowrap; text-align: center;\">No attempt\n</td></tr>\n<tr>\n<td colspan=\"9\">Dragon spacecraft demonstrated a series of tests before it was allowed to approach the <a href=\"/wiki/International_Space_Station\" title=\"International Space Station\">International Space Station</a>. Two days later, it became the first commercial spacecraft to board the ISS.<sup class=\"reference\" id=\"cite_ref-BBC_new_era_23-1\"><a href=\"#cite_note-BBC_new_era-23\">[17]</a></sup> <small>(<a href=\"#COTS_demo_missions\">more details below</a>)</small>\n</td></tr>\n<tr>\n<th rowspan=\"3\" scope=\"row\" style=\"text-align:center;\">4\n</th>\n<td rowspan=\"2\">8 October 2012,<br/>00:35<sup class=\"reference\" id=\"cite_ref-SFN_LLog_27-0\"><a href=\"#cite_note-SFN_LLog-27\">[21]</a></sup>\n</td>\n<td rowspan=\"2\"><a href=\"/wiki/Falcon_9_v1.0\" title=\"Falcon 9 v1.0\">F9 v1.0</a><sup class=\"reference\" id=\"cite_ref-MuskMay2012_13-3\"><a href=\"#cite_note-MuskMay2012-13\">[7]</a></sup><br/>B0006.1<sup class=\"reference\" id=\"cite_ref-block_numbers_14-3\"><a href=\"#cite_note-block_numbers-14\">[8]</a></sup>\n</td>\n<td rowspan=\"2\"><a href=\"/wiki/Cape_Canaveral_Space_Force_Station\" title=\"Cape Canaveral Space Force Station\">CCAFS</a>,<br/><a href=\"/wiki/Cape_Canaveral_Space_Launch_Complex_40\" title=\"Cape Canaveral Space Launch Complex 40\">SLC-40</a>\n</td>\n<td><a href=\"/wiki/SpaceX_CRS-1\" title=\"SpaceX CRS-1\">SpaceX CRS-1</a><sup class=\"reference\" id=\"cite_ref-sxManifest20120925_28-0\"><a href=\"#cite_note-sxManifest20120925-28\">[22]</a></sup><br/>(Dragon C103)\n</td>\n<td>4,700\u00a0kg (10,400\u00a0lb)\n</td>\n<td><a href=\"/wiki/Low_Earth_orbit\" title=\"Low Earth orbit\">LEO</a> (<a href=\"/wiki/International_Space_Station\" title=\"International Space Station\">ISS</a>)\n</td>\n<td><a href=\"/wiki/NASA\" title=\"NASA\">NASA</a> (<a href=\"/wiki/Commercial_Resupply_Services\" title=\"Commercial Resupply Services\">CRS</a>)\n</td>\n<td class=\"table-success\" style=\"background: #9EFF9E; vertical-align: middle; text-align: center;\">Success\n</td>\n<td rowspan=\"2\" style=\"background:#ececec; text-align:center;\"><span class=\"nowrap\">No attempt</span>\n</td></tr>\n<tr>\n<td><a href=\"/wiki/Orbcomm_(satellite)\" title=\"Orbcomm (satellite)\">Orbcomm-OG2</a><sup class=\"reference\" id=\"cite_ref-Orbcomm_29-0\"><a href=\"#cite_note-Orbcomm-29\">[23]</a></sup>\n</td>\n<td>172\u00a0kg (379\u00a0lb)<sup class=\"reference\" id=\"cite_ref-gunter-og2_30-0\"><a href=\"#cite_note-gunter-og2-30\">[24]</a></sup>\n</td>\n<td><a href=\"/wiki/Low_Earth_orbit\" title=\"Low Earth orbit\">LEO</a>\n</td>\n<td><a href=\"/wiki/Orbcomm\" title=\"Orbcomm\">Orbcomm</a>\n</td>\n<td class=\"table-partial\" style=\"background: #FE9; vertical-align: middle; text-align: center;\">Partial failure<sup class=\"reference\" id=\"cite_ref-nyt-20121030_31-0\"><a href=\"#cite_note-nyt-20121030-31\">[25]</a></sup>\n</td></tr>\n<tr>\n<td colspan=\"9\">CRS-1 was successful, but the <a href=\"/wiki/Secondary_payload\" title=\"Secondary payload\">secondary payload</a> was inserted into an abnormally low orbit and subsequently lost. This was due to one of the nine <a href=\"/wiki/SpaceX_Merlin\" title=\"SpaceX Merlin\">Merlin engines</a> shutting down during the launch, and NASA declining a second reignition, as per <a href=\"/wiki/International_Space_Station\" title=\"International Space Station\">ISS</a> visiting vehicle safety rules, the primary payload owner is contractually allowed to decline a second reignition. NASA stated that this was because SpaceX could not guarantee a high enough likelihood of the second stage completing the second burn successfully which was required to avoid any risk of secondary payload's collision with the ISS.<sup class=\"reference\" id=\"cite_ref-OrbcommTotalLoss_32-0\"><a href=\"#cite_note-OrbcommTotalLoss-32\">[26]</a></sup><sup class=\"reference\" id=\"cite_ref-sn20121011_33-0\"><a href=\"#cite_note-sn20121011-33\">[27]</a></sup><sup class=\"reference\" id=\"cite_ref-34\"><a href=\"#cite_note-34\">[28]</a></sup>\n</td></tr>\n<tr>\n<th rowspan=\"2\" scope=\"row\" style=\"text-align:center;\">5\n</th>\n<td>1 March 2013,<br/>15:10\n</td>\n<td><a href=\"/wiki/Falcon_9_v1.0\" title=\"Falcon 9 v1.0\">F9 v1.0</a><sup class=\"reference\" id=\"cite_ref-MuskMay2012_13-4\"><a href=\"#cite_note-MuskMay2012-13\">[7]</a></sup><br/>B0007.1<sup class=\"reference\" id=\"cite_ref-block_numbers_14-4\"><a href=\"#cite_note-block_numbers-14\">[8]</a></sup>\n</td>\n<td><a href=\"/wiki/Cape_Canaveral_Space_Force_Station\" title=\"Cape Canaveral Space Force Station\">CCAFS</a>,<br/><a href=\"/wiki/Cape_Canaveral_Space_Launch_Complex_40\" title=\"Cape Canaveral Space Launch Complex 40\">SLC-40</a>\n</td>\n<td><a href=\"/wiki/SpaceX_CRS-2\" title=\"SpaceX CRS-2\">SpaceX CRS-2</a><sup class=\"reference\" id=\"cite_ref-sxManifest20120925_28-1\"><a href=\"#cite_note-sxManifest20120925-28\">[22]</a></sup><br/>(Dragon C104)\n</td>\n<td>4,877\u00a0kg (10,752\u00a0lb)\n</td>\n<td><a href=\"/wiki/Low_Earth_orbit\" title=\"Low Earth orbit\">LEO</a> (<a class=\"mw-redirect\" href=\"/wiki/ISS\" title=\"ISS\">ISS</a>)\n</td>\n<td><a href=\"/wiki/NASA\" title=\"NASA\">NASA</a> (<a href=\"/wiki/Commercial_Resupply_Services\" title=\"Commercial Resupply Services\">CRS</a>)\n</td>\n<td class=\"table-success\" style=\"background: #9EFF9E; vertical-align: middle; text-align: center;\">Success\n</td>\n<td class=\"table-noAttempt\" style=\"background: #EEE; vertical-align: middle; white-space: nowrap; text-align: center;\">No attempt\n</td></tr>\n<tr>\n<td colspan=\"9\">Last launch of the original Falcon 9 v1.0 <a href=\"/wiki/Launch_vehicle\" title=\"Launch vehicle\">launch vehicle</a>, first use of the unpressurized trunk section of Dragon.<sup class=\"reference\" id=\"cite_ref-sxf9_20110321_35-0\"><a href=\"#cite_note-sxf9_20110321-35\">[29]</a></sup>\n</td></tr>\n<tr>\n<th rowspan=\"2\" scope=\"row\" style=\"text-align:center;\">6\n</th>\n<td>29 September 2013,<br/>16:00<sup class=\"reference\" id=\"cite_ref-pa20130930_36-0\"><a href=\"#cite_note-pa20130930-36\">[30]</a></sup>\n</td>\n<td><a href=\"/wiki/Falcon_9_v1.1\" title=\"Falcon 9 v1.1\">F9 v1.1</a><sup class=\"reference\" id=\"cite_ref-MuskMay2012_13-5\"><a href=\"#cite_note-MuskMay2012-13\">[7]</a></sup><br/>B1003<sup class=\"reference\" id=\"cite_ref-block_numbers_14-5\"><a href=\"#cite_note-block_numbers-14\">[8]</a></sup>\n</td>\n<td><a class=\"mw-redirect\" href=\"/wiki/Vandenberg_Air_Force_Base\" title=\"Vandenberg Air Force Base\">VAFB</a>,<br/><a href=\"/wiki/Vandenberg_Space_Launch_Complex_4\" title=\"Vandenberg Space Launch Complex 4\">SLC-4E</a>\n</td>\n<td><a href=\"/wiki/CASSIOPE\" title=\"CASSIOPE\">CASSIOPE</a><sup class=\"reference\" id=\"cite_ref-sxManifest20120925_28-2\"><a href=\"#cite_note-sxManifest20120925-28\">[22]</a></sup><sup class=\"reference\" id=\"cite_ref-CASSIOPE_MDA_37-0\"><a href=\"#cite_note-CASSIOPE_MDA-37\">[31]</a></sup>\n</td>\n<td>500\u00a0kg (1,100\u00a0lb)\n</td>\n<td><a href=\"/wiki/Polar_orbit\" title=\"Polar orbit\">Polar orbit</a> <a href=\"/wiki/Low_Earth_orbit\" title=\"Low Earth orbit\">LEO</a>\n</td>\n<td><a href=\"/wiki/Maxar_Technologies\" title=\"Maxar Technologies\">MDA</a>\n</td>\n<td class=\"table-success\" style=\"background: #9EFF9E; vertical-align: middle; text-align: center;\">Success<sup class=\"reference\" id=\"cite_ref-pa20130930_36-1\"><a href=\"#cite_note-pa20130930-36\">[30]</a></sup>\n</td>\n<td class=\"table-no2\" style=\"background: #FFE3E3; color: black; vertical-align: middle; text-align: center;\">Uncontrolled<br/><small>(ocean)</small><sup class=\"reference\" id=\"cite_ref-ocean_landing_38-0\"><a href=\"#cite_note-ocean_landing-38\">[d]</a></sup>\n</td></tr>\n<tr>\n<td colspan=\"9\">First commercial mission with a private customer, first launch from Vandenberg, and demonstration flight of Falcon 9 v1.1 with an improved 13-tonne to LEO capacity.<sup class=\"reference\" id=\"cite_ref-sxf9_20110321_35-1\"><a href=\"#cite_note-sxf9_20110321-35\">[29]</a></sup> After separation from the second stage carrying Canadian commercial and scientific satellites, the first stage booster performed a controlled reentry,<sup class=\"reference\" id=\"cite_ref-39\"><a href=\"#cite_note-39\">[32]</a></sup> and an <a href=\"/wiki/Falcon_9_first-stage_landing_tests\" title=\"Falcon 9 first-stage landing tests\">ocean touchdown test</a> for the first time. This provided good test data, even though the booster started rolling as it neared the ocean, leading to the shutdown of the central engine as the roll depleted it of fuel, resulting in a hard impact with the ocean.<sup class=\"reference\" id=\"cite_ref-pa20130930_36-2\"><a href=\"#cite_note-pa20130930-36\">[30]</a></sup> This was the first known attempt of a rocket engine being lit to perform a supersonic retro propulsion, and allowed SpaceX to enter a public-private partnership with <a href=\"/wiki/NASA\" title=\"NASA\">NASA</a> and its Mars entry, descent, and landing technologies research projects.<sup class=\"reference\" id=\"cite_ref-40\"><a href=\"#cite_note-40\">[33]</a></sup> <small>(<a href=\"#Maiden_flight_of_v1.1\">more details below</a>)</small>\n</td></tr>\n<tr>\n<th rowspan=\"2\" scope=\"row\" style=\"text-align:center;\">7\n</th>\n<td>3 December 2013,<br/>22:41<sup class=\"reference\" id=\"cite_ref-sfn_wwls20130624_41-0\"><a href=\"#cite_note-sfn_wwls20130624-41\">[34]</a></sup>\n</td>\n<td><a href=\"/wiki/Falcon_9_v1.1\" title=\"Falcon 9 v1.1\">F9 v1.1</a><br/>B1004\n</td>\n<td><a href=\"/wiki/Cape_Canaveral_Space_Force_Station\" title=\"Cape Canaveral Space Force Station\">CCAFS</a>,<br/><a href=\"/wiki/Cape_Canaveral_Space_Launch_Complex_40\" title=\"Cape Canaveral Space Launch Complex 40\">SLC-40</a>\n</td>\n<td><a href=\"/wiki/SES-8\" title=\"SES-8\">SES-8</a><sup class=\"reference\" id=\"cite_ref-sxManifest20120925_28-3\"><a href=\"#cite_note-sxManifest20120925-28\">[22]</a></sup><sup class=\"reference\" id=\"cite_ref-spx-pr_42-0\"><a href=\"#cite_note-spx-pr-42\">[35]</a></sup><sup class=\"reference\" id=\"cite_ref-aw20110323_43-0\"><a href=\"#cite_note-aw20110323-43\">[36]</a></sup>\n</td>\n<td>3,170\u00a0kg (6,990\u00a0lb)\n</td>\n<td><a href=\"/wiki/Geostationary_transfer_orbit\" title=\"Geostationary transfer orbit\">GTO</a>\n</td>\n<td><a href=\"/wiki/SES_S.A.\" title=\"SES S.A.\">SES</a>\n</td>\n<td class=\"table-success\" style=\"background: #9EFF9E; vertical-align: middle; text-align: center;\">Success<sup class=\"reference\" id=\"cite_ref-SNMissionStatus7_44-0\"><a href=\"#cite_note-SNMissionStatus7-44\">[37]</a></sup>\n</td>\n<td class=\"table-noAttempt\" style=\"background: #EEE; vertical-align: middle; white-space: nowrap; text-align: center;\">No attempt<br/><sup class=\"reference\" id=\"cite_ref-sf10120131203_45-0\"><a href=\"#cite_note-sf10120131203-45\">[38]</a></sup>\n</td></tr>\n<tr>\n<td colspan=\"9\">First <a href=\"/wiki/Geostationary_transfer_orbit\" title=\"Geostationary transfer orbit\">Geostationary transfer orbit</a> (GTO) launch for Falcon 9,<sup class=\"reference\" id=\"cite_ref-spx-pr_42-1\"><a href=\"#cite_note-spx-pr-42\">[35]</a></sup> and first successful reignition of the second stage.<sup class=\"reference\" id=\"cite_ref-46\"><a href=\"#cite_note-46\">[39]</a></sup> SES-8 was inserted into a <a href=\"/wiki/Geostationary_transfer_orbit\" title=\"Geostationary transfer orbit\">Super-Synchronous Transfer Orbit</a> of 79,341\u00a0km (49,300\u00a0mi) in apogee with an <a href=\"/wiki/Orbital_inclination\" title=\"Orbital inclination\">inclination</a> of 20.55\u00b0 to the <a href=\"/wiki/Equator\" title=\"Equator\">equator</a>.\n</td></tr></tbody></table>\n",
                    "name": "stdout"
                }
            ]
        },
        {
            "metadata": {},
            "cell_type": "markdown",
            "source": "You should able to see the columns names embedded in the table header elements `<th>` as follows:\n"
        },
        {
            "metadata": {},
            "cell_type": "markdown",
            "source": "```\n<tr>\n<th scope=\"col\">Flight No.\n</th>\n<th scope=\"col\">Date and<br/>time (<a href=\"/wiki/Coordinated_Universal_Time\" title=\"Coordinated Universal Time\">UTC</a>)\n</th>\n<th scope=\"col\"><a href=\"/wiki/List_of_Falcon_9_first-stage_boosters\" title=\"List of Falcon 9 first-stage boosters\">Version,<br/>Booster</a> <sup class=\"reference\" id=\"cite_ref-booster_11-0\"><a href=\"#cite_note-booster-11\">[b]</a></sup>\n</th>\n<th scope=\"col\">Launch site\n</th>\n<th scope=\"col\">Payload<sup class=\"reference\" id=\"cite_ref-Dragon_12-0\"><a href=\"#cite_note-Dragon-12\">[c]</a></sup>\n</th>\n<th scope=\"col\">Payload mass\n</th>\n<th scope=\"col\">Orbit\n</th>\n<th scope=\"col\">Customer\n</th>\n<th scope=\"col\">Launch<br/>outcome\n</th>\n<th scope=\"col\"><a href=\"/wiki/Falcon_9_first-stage_landing_tests\" title=\"Falcon 9 first-stage landing tests\">Booster<br/>landing</a>\n</th></tr>\n```\n"
        },
        {
            "metadata": {},
            "cell_type": "markdown",
            "source": "Next, we just need to iterate through the `<th>` elements and apply the provided `extract_column_from_header()` to extract column name one by one\n"
        },
        {
            "metadata": {},
            "cell_type": "code",
            "source": "column_names = []\n# Apply find_all() function with `th` element on first_launch_table\n# Iterate each th element and apply the provided extract_column_from_header() to get a column name\n# Append the Non-empty column name (`if name is not None and len(name) > 0`) into a list called column_names\nfor row in first_launch_table.find_all('th'):\n    name = extract_column_from_header(row)\n    if (name != None and len(name) > 0):\n        column_names.append(name)",
            "execution_count": 10,
            "outputs": []
        },
        {
            "metadata": {},
            "cell_type": "markdown",
            "source": "Check the extracted column names\n"
        },
        {
            "metadata": {},
            "cell_type": "code",
            "source": "print(column_names)",
            "execution_count": 11,
            "outputs": [
                {
                    "output_type": "stream",
                    "text": "['Flight No.', 'Date and time ( )', 'Launch site', 'Payload', 'Payload mass', 'Orbit', 'Customer', 'Launch outcome']\n",
                    "name": "stdout"
                }
            ]
        },
        {
            "metadata": {},
            "cell_type": "markdown",
            "source": "## TASK 3: Create a data frame by parsing the launch HTML tables\n"
        },
        {
            "metadata": {},
            "cell_type": "markdown",
            "source": "We will create an empty dictionary with keys from the extracted column names in the previous task. Later, this dictionary will be converted into a Pandas dataframe\n"
        },
        {
            "metadata": {},
            "cell_type": "code",
            "source": "launch_dict= dict.fromkeys(column_names)\n\n# Remove an irrelvant column\ndel launch_dict['Date and time ( )']\n\n# Let's initial the launch_dict with each value to be an empty list\nlaunch_dict['Flight No.'] = []\nlaunch_dict['Launch site'] = []\nlaunch_dict['Payload'] = []\nlaunch_dict['Payload mass'] = []\nlaunch_dict['Orbit'] = []\nlaunch_dict['Customer'] = []\nlaunch_dict['Launch outcome'] = []\n# Added some new columns\nlaunch_dict['Version Booster']=[]\nlaunch_dict['Booster landing']=[]\nlaunch_dict['Date']=[]\nlaunch_dict['Time']=[]",
            "execution_count": 12,
            "outputs": []
        },
        {
            "metadata": {},
            "cell_type": "markdown",
            "source": "Next, we just need to fill up the `launch_dict` with launch records extracted from table rows.\n"
        },
        {
            "metadata": {},
            "cell_type": "markdown",
            "source": "Usually, HTML tables in Wiki pages are likely to contain unexpected annotations and other types of noises, such as reference links `B0004.1[8]`, missing values `N/A [e]`, inconsistent formatting, etc.\n"
        },
        {
            "metadata": {},
            "cell_type": "markdown",
            "source": "To simplify the parsing process, we have provided an incomplete code snippet below to help you to fill up the `launch_dict`. Please complete the following code snippet with TODOs or you can choose to write your own logic to parse all launch tables:\n"
        },
        {
            "metadata": {},
            "cell_type": "code",
            "source": "extracted_row = 0\n#Extract each table \nfor table_number,table in enumerate(soup.find_all('table',\"wikitable plainrowheaders collapsible\")):\n   # get table row \n    for rows in table.find_all(\"tr\"):\n        #check to see if first table heading is as number corresponding to launch a number \n        if rows.th:\n            if rows.th.string:\n                flight_number=rows.th.string.strip()\n                flag=flight_number.isdigit()\n        else:\n            flag=False\n        #get table element \n        row=rows.find_all('td')\n        #if it is number save cells in a dictonary \n        if flag:\n            extracted_row += 1\n            # Flight Number value\n            # TODO: Append the flight_number into launch_dict with key `Flight No.`\n            launch_dict['Flight No.'].append(flight_number)\n            print(\"Flight Number : \" + flight_number)\n            datatimelist=date_time(row[0])\n            \n            # Date value\n            # TODO: Append the date into launch_dict with key `Date`\n            date = datatimelist[0].strip(',')\n            launch_dict['Date'].append(date)\n            print(\"Date : \" +date)\n            \n            # Time value\n            # TODO: Append the time into launch_dict with key `Time`\n            time = datatimelist[1]\n            launch_dict['Time'].append(time)\n            print(\"Time : \" +time)\n              \n            # Booster version\n            # TODO: Append the bv into launch_dict with key `Version Booster`\n            bv=booster_version(row[1])\n            if not(bv):\n                bv=row[1].a.string\n            launch_dict['Version Booster'].append(bv)\n            print(\"Booster Version : \" +bv)\n            \n            # Launch Site\n            # TODO: Append the bv into launch_dict with key `Launch Site`\n            launch_site = row[2].a.string\n            launch_dict['Launch site'].append(launch_site)\n            print(\"Launch Site : \" +launch_site)\n            \n            # Payload\n            # TODO: Append the payload into launch_dict with key `Payload`\n            payload = row[3].a.string\n            launch_dict['Payload'].append(payload)\n            print(\"Pay Load : \" +payload)\n            \n            # Payload Mass\n            # TODO: Append the payload_mass into launch_dict with key `Payload mass`\n            payload_mass = get_mass(row[4])\n            launch_dict['Payload mass'].append(payload_mass)\n            print(\"Pay Load Mass : \" +payload)\n            \n            # Orbit\n            # TODO: Append the orbit into launch_dict with key `Orbit`\n            orbit = row[5].a.string\n            launch_dict['Orbit'].append(orbit)\n            print(\"Orbit : \" +orbit)\n            \n            # Customer\n            # TODO: Append the customer into launch_dict with key `Customer`\n            customer = row[6].text.strip() # a.string\n            launch_dict['Customer'].append(customer)\n            print(\"Customer : \" +customer)\n            \n            # Launch outcome\n            # TODO: Append the launch_outcome into launch_dict with key `Launch outcome`\n            launch_outcome = list(row[7].strings)[0]\n            launch_dict['Launch outcome'].append(launch_outcome)\n            print(\"Launch Outcome : \" +launch_outcome)\n            \n            # Booster landing\n            # TODO: Append the launch_outcome into launch_dict with key `Booster landing`\n            booster_landing = landing_status(row[8])\n            launch_dict['Booster landing'].append(booster_landing)\n            print(\"Booster Landing : \" +booster_landing)",
            "execution_count": 13,
            "outputs": [
                {
                    "output_type": "stream",
                    "text": "Flight Number : 1\nDate : 4 June 2010\nTime : 18:45\nBooster Version : F9 v1.0B0003.1\nLaunch Site : CCAFS\nPay Load : Dragon Spacecraft Qualification Unit\nPay Load Mass : Dragon Spacecraft Qualification Unit\nOrbit : LEO\nCustomer : SpaceX\nLaunch Outcome : Success\n\nBooster Landing : Failure\nFlight Number : 2\nDate : 8 December 2010\nTime : 15:43\nBooster Version : F9 v1.0B0004.1\nLaunch Site : CCAFS\nPay Load : Dragon\nPay Load Mass : Dragon\nOrbit : LEO\nCustomer : NASA (COTS)\nNRO\nLaunch Outcome : Success\nBooster Landing : Failure\nFlight Number : 3\nDate : 22 May 2012\nTime : 07:44\nBooster Version : F9 v1.0B0005.1\nLaunch Site : CCAFS\nPay Load : Dragon\nPay Load Mass : Dragon\nOrbit : LEO\nCustomer : NASA (COTS)\nLaunch Outcome : Success\nBooster Landing : No attempt\n\nFlight Number : 4\nDate : 8 October 2012\nTime : 00:35\nBooster Version : F9 v1.0B0006.1\nLaunch Site : CCAFS\nPay Load : SpaceX CRS-1\nPay Load Mass : SpaceX CRS-1\nOrbit : LEO\nCustomer : NASA (CRS)\nLaunch Outcome : Success\n\nBooster Landing : No attempt\nFlight Number : 5\nDate : 1 March 2013\nTime : 15:10\nBooster Version : F9 v1.0B0007.1\nLaunch Site : CCAFS\nPay Load : SpaceX CRS-2\nPay Load Mass : SpaceX CRS-2\nOrbit : LEO\nCustomer : NASA (CRS)\nLaunch Outcome : Success\n\nBooster Landing : No attempt\n\nFlight Number : 6\nDate : 29 September 2013\nTime : 16:00\nBooster Version : F9 v1.1B1003\nLaunch Site : VAFB\nPay Load : CASSIOPE\nPay Load Mass : CASSIOPE\nOrbit : Polar orbit\nCustomer : MDA\nLaunch Outcome : Success\nBooster Landing : Uncontrolled\nFlight Number : 7\nDate : 3 December 2013\nTime : 22:41\nBooster Version : F9 v1.1\nLaunch Site : CCAFS\nPay Load : SES-8\nPay Load Mass : SES-8\nOrbit : GTO\nCustomer : SES\nLaunch Outcome : Success\nBooster Landing : No attempt\nFlight Number : 8\nDate : 6 January 2014\nTime : 22:06\nBooster Version : F9 v1.1\nLaunch Site : CCAFS\nPay Load : Thaicom 6\nPay Load Mass : Thaicom 6\nOrbit : GTO\nCustomer : Thaicom\nLaunch Outcome : Success\nBooster Landing : No attempt\nFlight Number : 9\nDate : 18 April 2014\nTime : 19:25\nBooster Version : F9 v1.1\nLaunch Site : Cape Canaveral\nPay Load : SpaceX CRS-3\nPay Load Mass : SpaceX CRS-3\nOrbit : LEO\nCustomer : NASA (CRS)\nLaunch Outcome : Success\n\nBooster Landing : Controlled\nFlight Number : 10\nDate : 14 July 2014\nTime : 15:15\nBooster Version : F9 v1.1\nLaunch Site : Cape Canaveral\nPay Load : Orbcomm-OG2\nPay Load Mass : Orbcomm-OG2\nOrbit : LEO\nCustomer : Orbcomm\nLaunch Outcome : Success\nBooster Landing : Controlled\nFlight Number : 11\nDate : 5 August 2014\nTime : 08:00\nBooster Version : F9 v1.1\nLaunch Site : Cape Canaveral\nPay Load : AsiaSat 8\nPay Load Mass : AsiaSat 8\nOrbit : GTO\nCustomer : AsiaSat\nLaunch Outcome : Success\nBooster Landing : No attempt\nFlight Number : 12\nDate : 7 September 2014\nTime : 05:00\nBooster Version : F9 v1.1\nLaunch Site : Cape Canaveral\nPay Load : AsiaSat 6\nPay Load Mass : AsiaSat 6\nOrbit : GTO\nCustomer : AsiaSat\nLaunch Outcome : Success\nBooster Landing : No attempt\n\nFlight Number : 13\nDate : 21 September 2014\nTime : 05:52\nBooster Version : F9 v1.1\nLaunch Site : Cape Canaveral\nPay Load : SpaceX CRS-4\nPay Load Mass : SpaceX CRS-4\nOrbit : LEO\nCustomer : NASA (CRS)\nLaunch Outcome : Success\nBooster Landing : Uncontrolled\nFlight Number : 14\nDate : 10 January 2015\nTime : 09:47\nBooster Version : F9 v1.1\nLaunch Site : Cape Canaveral\nPay Load : SpaceX CRS-5\nPay Load Mass : SpaceX CRS-5\nOrbit : LEO\nCustomer : NASA (CRS)\nLaunch Outcome : Success\nBooster Landing : Failure \nFlight Number : 15\nDate : 11 February 2015\nTime : 23:03\nBooster Version : F9 v1.1\nLaunch Site : Cape Canaveral\nPay Load : DSCOVR\nPay Load Mass : DSCOVR\nOrbit : HEO\nCustomer : USAF\nNASA\nNOAA\nLaunch Outcome : Success\n\nBooster Landing : Controlled\nFlight Number : 16\nDate : 2 March 2015\nTime : 03:50\nBooster Version : F9 v1.1\nLaunch Site : Cape Canaveral\nPay Load : ABS-3A\nPay Load Mass : ABS-3A\nOrbit : GTO\nCustomer : ABS\nEutelsat\nLaunch Outcome : Success\n\nBooster Landing : No attempt\nFlight Number : 17\nDate : 14 April 2015\nTime : 20:10\nBooster Version : F9 v1.1\nLaunch Site : Cape Canaveral\nPay Load : SpaceX CRS-6\nPay Load Mass : SpaceX CRS-6\nOrbit : LEO\nCustomer : NASA (CRS)\nLaunch Outcome : Success\n\nBooster Landing : Failure\nFlight Number : 18\nDate : 27 April 2015\nTime : 23:03\nBooster Version : F9 v1.1\nLaunch Site : Cape Canaveral\nPay Load : T\u00fcrkmen\u00c4lem 52\u00b0E / MonacoSAT\nPay Load Mass : T\u00fcrkmen\u00c4lem 52\u00b0E / MonacoSAT\nOrbit : GTO\nCustomer : Turkmenistan NationalSpace Agency[88]\nLaunch Outcome : Success\n\nBooster Landing : No attempt\nFlight Number : 19\nDate : 28 June 2015\nTime : 14:21\nBooster Version : F9 v1.1\nLaunch Site : Cape Canaveral\nPay Load : SpaceX CRS-7\nPay Load Mass : SpaceX CRS-7\nOrbit : LEO\nCustomer : NASA (CRS)\nLaunch Outcome : Failure\nBooster Landing : Precluded\nFlight Number : 20\nDate : 22 December 2015\nTime : 01:29\nBooster Version : F9 FT\nLaunch Site : Cape Canaveral\nPay Load : Orbcomm-OG2\nPay Load Mass : Orbcomm-OG2\nOrbit : LEO\nCustomer : Orbcomm\nLaunch Outcome : Success\n\nBooster Landing : Success\nFlight Number : 21\nDate : 17 January 2016\nTime : 18:42\nBooster Version : F9 v1.1\nLaunch Site : VAFB\nPay Load : Jason-3\nPay Load Mass : Jason-3\nOrbit : LEO\nCustomer : NASA (LSP)\nNOAA\nCNES\nLaunch Outcome : Success\n\nBooster Landing : Failure\nFlight Number : 22\nDate : 4 March 2016\nTime : 23:35\nBooster Version : F9 FT\nLaunch Site : Cape Canaveral\nPay Load : SES-9\nPay Load Mass : SES-9\nOrbit : GTO\nCustomer : SES\nLaunch Outcome : Success\n\nBooster Landing : Failure\nFlight Number : 23\nDate : 8 April 2016\nTime : 20:43\nBooster Version : F9 FT\nLaunch Site : Cape Canaveral\nPay Load : SpaceX CRS-8\nPay Load Mass : SpaceX CRS-8\nOrbit : LEO\nCustomer : NASA (CRS)\nLaunch Outcome : Success\nBooster Landing : Success\nFlight Number : 24\nDate : 6 May 2016\nTime : 05:21\nBooster Version : F9 FT\nLaunch Site : Cape Canaveral\nPay Load : JCSAT-14\nPay Load Mass : JCSAT-14\nOrbit : GTO\nCustomer : SKY Perfect JSAT Group\nLaunch Outcome : Success\n\nBooster Landing : Success\nFlight Number : 25\nDate : 27 May 2016\nTime : 21:39\nBooster Version : F9 FT\nLaunch Site : Cape Canaveral\nPay Load : Thaicom 8\nPay Load Mass : Thaicom 8\nOrbit : GTO\nCustomer : Thaicom\nLaunch Outcome : Success\n\nBooster Landing : Success\nFlight Number : 26\nDate : 15 June 2016\nTime : 14:29\nBooster Version : F9 FT\nLaunch Site : Cape Canaveral\nPay Load : ABS-2A\nPay Load Mass : ABS-2A\nOrbit : GTO\nCustomer : ABS\nEutelsat\nLaunch Outcome : Success\n\nBooster Landing : Failure\nFlight Number : 27\nDate : 18 July 2016\nTime : 04:45\nBooster Version : F9 FT\nLaunch Site : Cape Canaveral\nPay Load : SpaceX CRS-9\nPay Load Mass : SpaceX CRS-9\nOrbit : LEO\nCustomer : NASA (CRS)\nLaunch Outcome : Success\n\nBooster Landing : Success\nFlight Number : 28\nDate : 14 August 2016\nTime : 05:26\nBooster Version : F9 FT\nLaunch Site : Cape Canaveral\nPay Load : JCSAT-16\nPay Load Mass : JCSAT-16\nOrbit : GTO\nCustomer : SKY Perfect JSAT Group\nLaunch Outcome : Success\n\nBooster Landing : Success\nFlight Number : 29\nDate : 14 January 2017\nTime : 17:54\nBooster Version : F9 FT\nLaunch Site : VAFB\nPay Load : Iridium NEXT\nPay Load Mass : Iridium NEXT\nOrbit : Polar\nCustomer : Iridium Communications\nLaunch Outcome : Success\n\nBooster Landing : Success\nFlight Number : 30\nDate : 19 February 2017\nTime : 14:39\nBooster Version : F9 FT\nLaunch Site : KSC\nPay Load : SpaceX CRS-10\nPay Load Mass : SpaceX CRS-10\nOrbit : LEO\nCustomer : NASA (CRS)\nLaunch Outcome : Success\n\nBooster Landing : Success\nFlight Number : 31\nDate : 16 March 2017\nTime : 06:00\nBooster Version : F9 FT\nLaunch Site : KSC\nPay Load : EchoStar 23\nPay Load Mass : EchoStar 23\nOrbit : GTO\nCustomer : EchoStar\nLaunch Outcome : Success\n\nBooster Landing : No attempt\nFlight Number : 32\nDate : 30 March 2017\nTime : 22:27\nBooster Version : F9 FT\u267a\nLaunch Site : KSC\nPay Load : SES-10\nPay Load Mass : SES-10\nOrbit : GTO\nCustomer : SES\nLaunch Outcome : Success\nBooster Landing : Success\nFlight Number : 33\nDate : 1 May 2017\nTime : 11:15\nBooster Version : F9 FT\nLaunch Site : KSC\nPay Load : NROL-76\nPay Load Mass : NROL-76\nOrbit : LEO\nCustomer : NRO\nLaunch Outcome : Success\n\nBooster Landing : Success\nFlight Number : 34\nDate : 15 May 2017\nTime : 23:21\nBooster Version : F9 FT\nLaunch Site : KSC\nPay Load : Inmarsat-5 F4\nPay Load Mass : Inmarsat-5 F4\nOrbit : GTO\nCustomer : Inmarsat\nLaunch Outcome : Success\n\nBooster Landing : No attempt\nFlight Number : 35\nDate : 3 June 2017\nTime : 21:07\nBooster Version : F9 FT\nLaunch Site : KSC\nPay Load : SpaceX CRS-11\nPay Load Mass : SpaceX CRS-11\nOrbit : LEO\nCustomer : NASA (CRS)\nLaunch Outcome : Success\n\nBooster Landing : Success\nFlight Number : 36\nDate : 23 June 2017\nTime : 19:10\nBooster Version : F9 FTB1029.2\nLaunch Site : KSC\nPay Load : BulgariaSat-1\nPay Load Mass : BulgariaSat-1\nOrbit : GTO\nCustomer : Bulsatcom\nLaunch Outcome : Success\n\nBooster Landing : Success\nFlight Number : 37\nDate : 25 June 2017\nTime : 20:25\nBooster Version : F9 FT\nLaunch Site : VAFB\nPay Load : Iridium NEXT\nPay Load Mass : Iridium NEXT\nOrbit : LEO\nCustomer : Iridium Communications\nLaunch Outcome : Success\n\nBooster Landing : Success\nFlight Number : 38\nDate : 5 July 2017\nTime : 23:38\nBooster Version : F9 FT\nLaunch Site : KSC\nPay Load : Intelsat 35e\nPay Load Mass : Intelsat 35e\nOrbit : GTO\nCustomer : Intelsat\nLaunch Outcome : Success\n\nBooster Landing : No attempt\nFlight Number : 39\nDate : 14 August 2017\nTime : 16:31\nBooster Version : F9 B4\nLaunch Site : KSC\nPay Load : SpaceX CRS-12\nPay Load Mass : SpaceX CRS-12\nOrbit : LEO\nCustomer : NASA (CRS)\nLaunch Outcome : Success\n\nBooster Landing : Success\nFlight Number : 40\nDate : 24 August 2017\nTime : 18:51\nBooster Version : F9 FT\nLaunch Site : VAFB\nPay Load : Formosat-5\nPay Load Mass : Formosat-5\nOrbit : SSO\nCustomer : NSPO\nLaunch Outcome : Success\n\nBooster Landing : Success\nFlight Number : 41\nDate : 7 September 2017\nTime : 14:00\nBooster Version : F9 B4\nLaunch Site : KSC\nPay Load : Boeing X-37B\nPay Load Mass : Boeing X-37B\nOrbit : LEO\nCustomer : USAF\nLaunch Outcome : Success\n\nBooster Landing : Success\nFlight Number : 42\nDate : 9 October 2017\nTime : 12:37\nBooster Version : F9 B4\nLaunch Site : VAFB\nPay Load : Iridium NEXT\nPay Load Mass : Iridium NEXT\nOrbit : Polar\nCustomer : Iridium Communications\nLaunch Outcome : Success\n\nBooster Landing : Success\nFlight Number : 43\nDate : 11 October 2017\nTime : 22:53:00\nBooster Version : F9 FTB1031.2\nLaunch Site : KSC\nPay Load : SES-11\nPay Load Mass : SES-11\nOrbit : GTO\nCustomer : SES S.A.\nEchoStar\nLaunch Outcome : Success\n\nBooster Landing : Success\nFlight Number : 44\nDate : 30 October 2017\nTime : 19:34\nBooster Version : F9 B4\nLaunch Site : KSC\nPay Load : Koreasat 5A\nPay Load Mass : Koreasat 5A\nOrbit : GTO\nCustomer : KT Corporation\nLaunch Outcome : Success\n\nBooster Landing : Success\nFlight Number : 45\nDate : 15 December 2017\nTime : 15:36\nBooster Version : F9 FTB1035.2\nLaunch Site : Cape Canaveral\nPay Load : SpaceX CRS-13\nPay Load Mass : SpaceX CRS-13\nOrbit : LEO\nCustomer : NASA (CRS)\nLaunch Outcome : Success\n\nBooster Landing : Success\nFlight Number : 46\nDate : 23 December 2017\nTime : 01:27\nBooster Version : F9 FTB1036.2\nLaunch Site : VAFB\nPay Load : Iridium NEXT\nPay Load Mass : Iridium NEXT\nOrbit : Polar\nCustomer : Iridium Communications\nLaunch Outcome : Success\nBooster Landing : Controlled\nFlight Number : 47\nDate : 8 January 2018\nTime : 01:00\nBooster Version : F9 B4\nLaunch Site : CCAFS\nPay Load : Zuma\nPay Load Mass : Zuma\nOrbit : LEO\nCustomer : Northrop Grumman [f][238]\nLaunch Outcome : Success\nBooster Landing : Success\nFlight Number : 48\nDate : 31 January 2018\nTime : 21:25\nBooster Version : F9 FTB1032.2\nLaunch Site : CCAFS\nPay Load : GovSat-1\nPay Load Mass : GovSat-1\nOrbit : GTO\nCustomer : SES\nLaunch Outcome : Success\nBooster Landing : Controlled\nFlight Number : 49\nDate : 22 February 2018\nTime : 14:17\nBooster Version : F9 FTB1038.2\nLaunch Site : VAFB\nPay Load : Paz\nPay Load Mass : Paz\nOrbit : SSO\nCustomer : Hisdesat\nexactEarth\nSpaceX\nLaunch Outcome : Success\nBooster Landing : No attempt\nFlight Number : 50\nDate : 6 March 2018\nTime : 05:33\nBooster Version : F9 B4\nLaunch Site : CCAFS\nPay Load : Hispasat 30W-6\nPay Load Mass : Hispasat 30W-6\nOrbit : GTO\nCustomer : Hispasat[277]\nNovaWurks\nLaunch Outcome : Success\nBooster Landing : No attempt\nFlight Number : 51\nDate : 30 March 2018\nTime : 14:14\nBooster Version : F9 B4B1041.2\nLaunch Site : VAFB\nPay Load : Iridium NEXT\nPay Load Mass : Iridium NEXT\nOrbit : Polar\nCustomer : Iridium Communications\nLaunch Outcome : Success\nBooster Landing : No attempt\nFlight Number : 52\nDate : 2 April 2018\nTime : 20:30\nBooster Version : F9 B4B1039.2\nLaunch Site : CCAFS\nPay Load : SpaceX CRS-14\nPay Load Mass : SpaceX CRS-14\nOrbit : LEO\nCustomer : NASA (CRS)\nLaunch Outcome : Success\nBooster Landing : No attempt\nFlight Number : 53\nDate : 18 April 2018\nTime : 22:51\nBooster Version : F9 B4\nLaunch Site : CCAFS\nPay Load : Transiting Exoplanet Survey Satellite\nPay Load Mass : Transiting Exoplanet Survey Satellite\nOrbit : HEO\nCustomer : NASA (LSP)\nLaunch Outcome : Success\nBooster Landing : Success\nFlight Number : 54\nDate : 11 May 2018\nTime : 20:14\nBooster Version : F9 B5B1046.1\nLaunch Site : KSC\nPay Load : Bangabandhu-1\nPay Load Mass : Bangabandhu-1\nOrbit : GTO\nCustomer : Thales-Alenia / BTRC\nLaunch Outcome : Success\nBooster Landing : Success\nFlight Number : 55\nDate : 22 May 2018\nTime : 19:47\nBooster Version : F9 B4B1043.2\nLaunch Site : VAFB\nPay Load : Iridium NEXT\nPay Load Mass : Iridium NEXT\nOrbit : Polar\nCustomer : Iridium Communications\nGFZ\u00a0\u2022 NASA\nLaunch Outcome : Success\nBooster Landing : No attempt\nFlight Number : 56\nDate : 4 June 2018\nTime : 04:45\nBooster Version : F9 B4B1040.2\nLaunch Site : CCAFS\nPay Load : SES-12\nPay Load Mass : SES-12\nOrbit : GTO\nCustomer : SES\nLaunch Outcome : Success\nBooster Landing : No attempt\nFlight Number : 57\nDate : 29 June 2018\nTime : 09:42\nBooster Version : F9 B4B1045.2\nLaunch Site : CCAFS\nPay Load : SpaceX CRS-15\nPay Load Mass : SpaceX CRS-15\nOrbit : LEO\nCustomer : NASA (CRS)\nLaunch Outcome : Success\nBooster Landing : No attempt\nFlight Number : 58\nDate : 22 July 2018\nTime : 05:50\nBooster Version : F9 B5\nLaunch Site : CCAFS\nPay Load : Telstar 19V\nPay Load Mass : Telstar 19V\nOrbit : GTO\nCustomer : Telesat\nLaunch Outcome : Success\nBooster Landing : Success\nFlight Number : 59\nDate : 25 July 2018\nTime : 11:39\nBooster Version : F9 B5B1048\nLaunch Site : VAFB\nPay Load : Iridium NEXT\nPay Load Mass : Iridium NEXT\nOrbit : Polar\nCustomer : Iridium Communications\nLaunch Outcome : Success\nBooster Landing : Success\nFlight Number : 60\nDate : 7 August 2018\nTime : 05:18\nBooster Version : F9 B5B1046.2\nLaunch Site : CCAFS\nPay Load : Merah Putih\nPay Load Mass : Merah Putih\nOrbit : GTO\nCustomer : Telkom Indonesia\nLaunch Outcome : Success\nBooster Landing : Success\nFlight Number : 61\nDate : 10 September 2018\nTime : 04:45\nBooster Version : F9 B5\nLaunch Site : CCAFS\nPay Load : Telstar 18V\nPay Load Mass : Telstar 18V\nOrbit : GTO\nCustomer : Telesat\nLaunch Outcome : Success\nBooster Landing : Success\nFlight Number : 62\nDate : 8 October 2018\nTime : 02:22\nBooster Version : F9 B5B1048.2\nLaunch Site : VAFB\nPay Load : SAOCOM 1A\nPay Load Mass : SAOCOM 1A\nOrbit : SSO\nCustomer : CONAE\nLaunch Outcome : Success\nBooster Landing : Success\nFlight Number : 63\nDate : 15 November 2018\nTime : 20:46\nBooster Version : F9 B5B1047.2\nLaunch Site : KSC\nPay Load : Es'hail 2\nPay Load Mass : Es'hail 2\nOrbit : GTO\nCustomer : Es'hailSat\nLaunch Outcome : Success\nBooster Landing : Success\nFlight Number : 64\nDate : 3 December 2018\nTime : 18:34:05\nBooster Version : F9 B5B1046.3\nLaunch Site : VAFB\nPay Load : SSO-A\nPay Load Mass : SSO-A\nOrbit : SSO\nCustomer : Spaceflight Industries\nLaunch Outcome : Success\nBooster Landing : Success\nFlight Number : 65\nDate : 5 December 2018\nTime : 18:16\nBooster Version : F9 B5\nLaunch Site : CCAFS\nPay Load : SpaceX CRS-16\nPay Load Mass : SpaceX CRS-16\nOrbit : LEO\nCustomer : NASA (CRS)\nLaunch Outcome : Success\n\nBooster Landing : Failure\nFlight Number : 66\nDate : 23 December 2018\nTime : 13:51\nBooster Version : F9 B5\nLaunch Site : CCAFS\nPay Load : GPS III\nPay Load Mass : GPS III\nOrbit : MEO\nCustomer : USAF\nLaunch Outcome : Success\nBooster Landing : No attempt\nFlight Number : 67\nDate : 11 January 2019\nTime : 15:31\nBooster Version : F9 B5B1049.2\nLaunch Site : VAFB\nPay Load : Iridium NEXT\nPay Load Mass : Iridium NEXT\nOrbit : Polar\nCustomer : Iridium Communications\nLaunch Outcome : Success\n\nBooster Landing : Success\nFlight Number : 68\nDate : 22 February 2019\nTime : 01:45\nBooster Version : F9 B5B1048.3\nLaunch Site : CCAFS\nPay Load : Nusantara Satu\nPay Load Mass : Nusantara Satu\nOrbit : GTO\nCustomer : PSN\nSpaceIL / IAI\nAir Force Research\nLaunch Outcome : Success\n\nBooster Landing : Success\nFlight Number : 69\nDate : 2 March 2019\nTime : 07:49\nBooster Version : F9 B5[268]\nLaunch Site : KSC\nPay Load : Crew Dragon Demo-1\nPay Load Mass : Crew Dragon Demo-1\nOrbit : LEO\nCustomer : NASA (CCD)\nLaunch Outcome : Success\n\nBooster Landing : Success\nFlight Number : 70\nDate : 4 May 2019\nTime : 06:48\nBooster Version : F9 B5\nLaunch Site : CCAFS\nPay Load : SpaceX CRS-17\nPay Load Mass : SpaceX CRS-17\nOrbit : LEO\nCustomer : NASA (CRS)\nLaunch Outcome : Success\n\nBooster Landing : Success\nFlight Number : 71\nDate : 24 May 2019\nTime : 02:30\nBooster Version : F9 B5B1049.3\nLaunch Site : CCAFS\nPay Load : Starlink\nPay Load Mass : Starlink\nOrbit : LEO\nCustomer : SpaceX\nLaunch Outcome : Success\n\nBooster Landing : Success\nFlight Number : 72\nDate : 12 June 2019\nTime : 14:17\nBooster Version : F9 B5B1051.2\nLaunch Site : VAFB\nPay Load : RADARSAT Constellation\nPay Load Mass : RADARSAT Constellation\nOrbit : SSO\nCustomer : Canadian Space Agency (CSA)\nLaunch Outcome : Success\n\nBooster Landing : Success\nFlight Number : 73\nDate : 25 July 2019\nTime : 22:01\nBooster Version : F9 B5B1056.2\nLaunch Site : CCAFS\nPay Load : SpaceX CRS-18\nPay Load Mass : SpaceX CRS-18\nOrbit : LEO\nCustomer : NASA (CRS)\nLaunch Outcome : Success\n\nBooster Landing : Success\nFlight Number : 74\nDate : 6 August 2019\nTime : 23:23\nBooster Version : F9 B5B1047.3\nLaunch Site : CCAFS\nPay Load : AMOS-17\nPay Load Mass : AMOS-17\nOrbit : GTO\nCustomer : Spacecom\nLaunch Outcome : Success\n\nBooster Landing : No attempt\nFlight Number : 75\nDate : 11 November 2019\nTime : 14:56\nBooster Version : F9 B5\nLaunch Site : CCAFS\nPay Load : Starlink\nPay Load Mass : Starlink\nOrbit : LEO\nCustomer : SpaceX\nLaunch Outcome : Success\n\nBooster Landing : Success\nFlight Number : 76\nDate : 5 December 2019\nTime : 17:29\nBooster Version : F9 B5\nLaunch Site : CCAFS\nPay Load : SpaceX CRS-19\nPay Load Mass : SpaceX CRS-19\nOrbit : LEO\nCustomer : NASA (CRS)\nLaunch Outcome : Success\n\nBooster Landing : Success\nFlight Number : 77\nDate : 17 December 2019\nTime : 00:10\nBooster Version : F9 B5B1056.3\nLaunch Site : CCAFS\nPay Load : JCSat-18\nPay Load Mass : JCSat-18\nOrbit : GTO\nCustomer : Sky Perfect JSATKacific 1\nLaunch Outcome : Success\n\nBooster Landing : Success\nFlight Number : 78\nDate : 7 January 2020\nTime : 02:19:21\nBooster Version : F9 B5\nLaunch Site : CCAFS\nPay Load : Starlink\nPay Load Mass : Starlink\nOrbit : LEO\nCustomer : SpaceX\nLaunch Outcome : Success\n\nBooster Landing : Success\nFlight Number : 79\nDate : 19 January 2020\nTime : 15:30\nBooster Version : F9 B5\nLaunch Site : KSC\nPay Load : Crew Dragon in-flight abort test\nPay Load Mass : Crew Dragon in-flight abort test\nOrbit : Sub-orbital\nCustomer : NASA (CTS)[497]\nLaunch Outcome : Success\n\nBooster Landing : No attempt\n\nFlight Number : 80\nDate : 29 January 2020\nTime : 14:07\nBooster Version : F9 B5\nLaunch Site : CCAFS\nPay Load : Starlink\nPay Load Mass : Starlink\nOrbit : LEO\nCustomer : SpaceX\nLaunch Outcome : Success\n\nBooster Landing : Success\nFlight Number : 81\nDate : 17 February 2020\nTime : 15:05\nBooster Version : F9 B5\nLaunch Site : CCAFS\nPay Load : Starlink\nPay Load Mass : Starlink\nOrbit : LEO\nCustomer : SpaceX\nLaunch Outcome : Success\n\nBooster Landing : Failure\nFlight Number : 82\nDate : 7 March 2020\nTime : 04:50\nBooster Version : F9 B5\nLaunch Site : CCAFS\nPay Load : SpaceX CRS-20\nPay Load Mass : SpaceX CRS-20\nOrbit : LEO\nCustomer : NASA (CRS)\nLaunch Outcome : Success\n\nBooster Landing : Success\nFlight Number : 83\nDate : 18 March 2020\nTime : 12:16\nBooster Version : F9 B5\nLaunch Site : KSC\nPay Load : Starlink\nPay Load Mass : Starlink\nOrbit : LEO\nCustomer : SpaceX\nLaunch Outcome : Success\n\nBooster Landing : Failure\nFlight Number : 84\nDate : 22 April 2020\nTime : 19:30\nBooster Version : F9 B5\nLaunch Site : KSC\nPay Load : Starlink\nPay Load Mass : Starlink\nOrbit : LEO\nCustomer : SpaceX\nLaunch Outcome : Success\n\nBooster Landing : Success\nFlight Number : 85\nDate : 30 May 2020\nTime : 19:22\nBooster Version : F9 B5\nLaunch Site : KSC\nPay Load : Crew Dragon Demo-2\nPay Load Mass : Crew Dragon Demo-2\nOrbit : LEO\nCustomer : NASA (CCDev)\nLaunch Outcome : Success\n\nBooster Landing : Success\nFlight Number : 86\nDate : 4 June 2020\nTime : 01:25\nBooster Version : F9 B5\nLaunch Site : CCAFS\nPay Load : Starlink\nPay Load Mass : Starlink\nOrbit : LEO\nCustomer : SpaceX\nLaunch Outcome : Success\n\nBooster Landing : Success\nFlight Number : 87\nDate : 13 June 2020\nTime : 09:21\nBooster Version : F9 B5\nLaunch Site : CCAFS\nPay Load : Starlink\nPay Load Mass : Starlink\nOrbit : LEO\nCustomer : SpaceXPlanet Labs\nLaunch Outcome : Success\n\nBooster Landing : Success\nFlight Number : 88\nDate : 30 June 2020\nTime : 20:10:46\nBooster Version : F9 B5\nLaunch Site : CCAFS\nPay Load : GPS III\nPay Load Mass : GPS III\nOrbit : MEO\nCustomer : U.S. Space Force[530]\nLaunch Outcome : Success\n\nBooster Landing : Success\nFlight Number : 89\nDate : 20 July 2020\nTime : 21:30\nBooster Version : F9 B5B1058.2\nLaunch Site : CCAFS\nPay Load : ANASIS-II\nPay Load Mass : ANASIS-II\nOrbit : GTO\nCustomer : Republic of Korea Army\nLaunch Outcome : Success\n\nBooster Landing : Success\nFlight Number : 90\nDate : 7 August 2020\nTime : 05:12\nBooster Version : F9 B5\nLaunch Site : KSC\nPay Load : Starlink\nPay Load Mass : Starlink\nOrbit : LEO\nCustomer : SpaceXSpaceflight Industries (BlackSky)\nLaunch Outcome : Success\n\nBooster Landing : Success\nFlight Number : 91\nDate : 18 August 2020\nTime : 14:31\nBooster Version : F9 B5B1049.6\nLaunch Site : CCAFS\nPay Load : Starlink\nPay Load Mass : Starlink\nOrbit : LEO\nCustomer : SpaceXPlanet Labs\nLaunch Outcome : Success\n\nBooster Landing : Success\nFlight Number : 92\nDate : 30 August 2020\nTime : 23:18\nBooster Version : F9 B5\nLaunch Site : CCAFS\nPay Load : SAOCOM 1B\nPay Load Mass : SAOCOM 1B\nOrbit : SSO\nCustomer : CONAEPlanetIQTyvak\nLaunch Outcome : Success\n\nBooster Landing : Success\nFlight Number : 93\nDate : 3 September 2020\nTime : 12:46:14\nBooster Version : F9 B5B1060.2\nLaunch Site : KSC\nPay Load : Starlink\nPay Load Mass : Starlink\nOrbit : LEO\nCustomer : SpaceX\nLaunch Outcome : Success\n\nBooster Landing : Success\nFlight Number : 94\nDate : 6 October 2020\nTime : 11:29:34\nBooster Version : F9 B5B1058.3\nLaunch Site : KSC\nPay Load : Starlink\nPay Load Mass : Starlink\nOrbit : LEO\nCustomer : SpaceX\nLaunch Outcome : Success\n\nBooster Landing : Success\nFlight Number : 95\nDate : 18 October 2020\nTime : 12:25:57\nBooster Version : F9 B5B1051.6\nLaunch Site : KSC\nPay Load : Starlink\nPay Load Mass : Starlink\nOrbit : LEO\nCustomer : SpaceX\nLaunch Outcome : Success\n\nBooster Landing : Success\nFlight Number : 96\nDate : 24 October 2020\nTime : 15:31:34\nBooster Version : F9 B5\nLaunch Site : CCAFS\nPay Load : Starlink\nPay Load Mass : Starlink\nOrbit : LEO\nCustomer : SpaceX\nLaunch Outcome : Success\n\nBooster Landing : Success\nFlight Number : 97\nDate : 5 November 2020\nTime : 23:24:23\nBooster Version : F9 B5\nLaunch Site : CCAFS\nPay Load : GPS III\nPay Load Mass : GPS III\n",
                    "name": "stdout"
                },
                {
                    "output_type": "stream",
                    "text": "Orbit : MEO\nCustomer : USSF\nLaunch Outcome : Success\n\nBooster Landing : Success\nFlight Number : 98\nDate : 16 November 2020\nTime : 00:27\nBooster Version : F9 B5\nLaunch Site : KSC\nPay Load : Crew-1\nPay Load Mass : Crew-1\nOrbit : LEO\nCustomer : NASA (CCP)[497]\nLaunch Outcome : Success\n\nBooster Landing : Success\nFlight Number : 99\nDate : 21 November 2020\nTime : 17:17:08\nBooster Version : F9 B5\nLaunch Site : VAFB\nPay Load : Sentinel-6 Michael Freilich (Jason-CS A)\nPay Load Mass : Sentinel-6 Michael Freilich (Jason-CS A)\nOrbit : LEO\nCustomer : NASA / NOAA / ESA / EUMETSAT\nLaunch Outcome : Success\n\nBooster Landing : Success\nFlight Number : 100\nDate : 25 November 2020\nTime : 02:13\nBooster Version : F9 B5 \u267a\nLaunch Site : CCAFS\nPay Load : Starlink\nPay Load Mass : Starlink\nOrbit : LEO\nCustomer : SpaceX\nLaunch Outcome : Success\n\nBooster Landing : Success\nFlight Number : 101\nDate : 6 December 2020\nTime : 16:17:08\nBooster Version : F9 B5 \u267a\nLaunch Site : KSC\nPay Load : SpaceX CRS-21\nPay Load Mass : SpaceX CRS-21\nOrbit : LEO\nCustomer : NASA (CRS)\nLaunch Outcome : Success\n\nBooster Landing : Success\nFlight Number : 102\nDate : 13 December 2020\nTime : 17:30:00\nBooster Version : F9 B5 \u267a\nLaunch Site : CCSFS\nPay Load : SXM-7\nPay Load Mass : SXM-7\nOrbit : GTO\nCustomer : Sirius XM\nLaunch Outcome : Success\n\nBooster Landing : Success\nFlight Number : 103\nDate : 19 December 2020\nTime : 14:00:00\nBooster Version : F9 B5 \u267a\nLaunch Site : KSC\nPay Load : NROL-108\nPay Load Mass : NROL-108\nOrbit : LEO\nCustomer : NRO\nLaunch Outcome : Success\n\nBooster Landing : Success\nFlight Number : 104\nDate : 8 January 2021\nTime : 02:15\nBooster Version : F9 B5\nLaunch Site : CCSFS\nPay Load : T\u00fcrksat 5A\nPay Load Mass : T\u00fcrksat 5A\nOrbit : GTO\nCustomer : T\u00fcrksat\nLaunch Outcome : Success\n\nBooster Landing : Success\nFlight Number : 105\nDate : 20 January 2021\nTime : 13:02\nBooster Version : F9 B5B1051.8\nLaunch Site : KSC\nPay Load : Starlink\nPay Load Mass : Starlink\nOrbit : LEO\nCustomer : SpaceX\nLaunch Outcome : Success\n\nBooster Landing : Success\nFlight Number : 106\nDate : 24 January 2021\nTime : 15:00\nBooster Version : F9 B5B1058.5\nLaunch Site : CCSFS\nPay Load : Transporter-1\nPay Load Mass : Transporter-1\nOrbit : SSO\nCustomer : Various\nLaunch Outcome : Success\n\nBooster Landing : Success\nFlight Number : 107\nDate : 4 February 2021\nTime : 06:19\nBooster Version : F9 B5 \u267a\nLaunch Site : CCSFS\nPay Load : Starlink\nPay Load Mass : Starlink\nOrbit : LEO\nCustomer : SpaceX\nLaunch Outcome : Success\n\nBooster Landing : Success\nFlight Number : 108\nDate : 16 February 2021\nTime : 03:59:37\nBooster Version : F9 B5 \u267a\nLaunch Site : CCSFS\nPay Load : Starlink\nPay Load Mass : Starlink\nOrbit : LEO\nCustomer : SpaceX\nLaunch Outcome : Success\n\nBooster Landing : Failure\nFlight Number : 109\nDate : 4 March 2021\nTime : 08:24\nBooster Version : F9 B5 \u267a\nLaunch Site : KSC\nPay Load : Starlink\nPay Load Mass : Starlink\nOrbit : LEO\nCustomer : SpaceX\nLaunch Outcome : Success\n\nBooster Landing : Success\nFlight Number : 110\nDate : 11 March 2021\nTime : 08:13:29\nBooster Version : F9 B5 \u267a\nLaunch Site : CCSFS\nPay Load : Starlink\nPay Load Mass : Starlink\nOrbit : LEO\nCustomer : SpaceX\nLaunch Outcome : Success\n\nBooster Landing : Success\nFlight Number : 111\nDate : 14 March 2021\nTime : 10:01\nBooster Version : F9 B5 \u267a\nLaunch Site : KSC\nPay Load : Starlink\nPay Load Mass : Starlink\nOrbit : LEO\nCustomer : SpaceX\nLaunch Outcome : Success\n\nBooster Landing : Success\nFlight Number : 112\nDate : 24 March 2021\nTime : 08:28\nBooster Version : F9 B5B1060.6\nLaunch Site : CCSFS\nPay Load : Starlink\nPay Load Mass : Starlink\nOrbit : LEO\nCustomer : SpaceX\nLaunch Outcome : Success\n\nBooster Landing : Success\nFlight Number : 113\nDate : 7 April 2021\nTime : 16:34\nBooster Version : F9 B5 \u267a\nLaunch Site : CCSFS\nPay Load : Starlink\nPay Load Mass : Starlink\nOrbit : LEO\nCustomer : SpaceX\nLaunch Outcome : Success\n\nBooster Landing : Success\nFlight Number : 114\nDate : 23 April 2021\nTime : 9:49\nBooster Version : F9 B5B1061.2\nLaunch Site : KSC\nPay Load : Crew-2\nPay Load Mass : Crew-2\nOrbit : LEO\nCustomer : NASA (CTS)[497]\nLaunch Outcome : Success\n\nBooster Landing : Success\nFlight Number : 115\nDate : 29 April 2021\nTime : 03:44\nBooster Version : F9 B5B1060.7\nLaunch Site : CCSFS\nPay Load : Starlink\nPay Load Mass : Starlink\nOrbit : LEO\nCustomer : SpaceX\nLaunch Outcome : Success\n\nBooster Landing : Success\nFlight Number : 116\nDate : 4 May 2021\nTime : 19:01\nBooster Version : F9 B5B1049.9\nLaunch Site : KSC\nPay Load : Starlink\nPay Load Mass : Starlink\nOrbit : LEO\nCustomer : SpaceX\nLaunch Outcome : Success\n\nBooster Landing : Success\nFlight Number : 117\nDate : 9 May 2021\nTime : 06:42\nBooster Version : F9 B5B1051.10\nLaunch Site : CCSFS\nPay Load : Starlink\nPay Load Mass : Starlink\nOrbit : LEO\nCustomer : SpaceX\nLaunch Outcome : Success\n\nBooster Landing : Success\nFlight Number : 118\nDate : 15 May 2021\nTime : 22:56\nBooster Version : F9 B5B1058.8\nLaunch Site : KSC\nPay Load : Starlink\nPay Load Mass : Starlink\nOrbit : LEO\nCustomer : SpaceX Capella Space and Tyvak\nLaunch Outcome : Success\n\nBooster Landing : Success\nFlight Number : 119\nDate : 26 May 2021\nTime : 18:59\nBooster Version : F9 B5B1063.2\nLaunch Site : CCSFS\nPay Load : Starlink\nPay Load Mass : Starlink\nOrbit : LEO\nCustomer : SpaceX\nLaunch Outcome : Success\n\nBooster Landing : Success\nFlight Number : 120\nDate : 3 June 2021\nTime : 17:29\nBooster Version : F9 B5B1067.1\nLaunch Site : KSC\nPay Load : SpaceX CRS-22\nPay Load Mass : SpaceX CRS-22\nOrbit : LEO\nCustomer : NASA (CRS)\nLaunch Outcome : Success\n\nBooster Landing : Success\nFlight Number : 121\nDate : 6 June 2021\nTime : 04:26\nBooster Version : F9 B5\nLaunch Site : CCSFS\nPay Load : SXM-8\nPay Load Mass : SXM-8\nOrbit : GTO\nCustomer : Sirius XM\nLaunch Outcome : Success\n\nBooster Landing : Success\n",
                    "name": "stdout"
                }
            ]
        },
        {
            "metadata": {},
            "cell_type": "markdown",
            "source": "After you have fill in the parsed launch record values into `launch_dict`, you can create a dataframe from it.\n"
        },
        {
            "metadata": {},
            "cell_type": "code",
            "source": "headings = []\nfor key,values in dict(launch_dict).items():\n    if key not in headings:\n        headings.append(key)\n    if values is None:\n        del launch_dict[key]\n\ndef pad_dict_list(dict_list, padel):\n    lmax = 0\n    for lname in dict_list.keys():\n        lmax = max(lmax, len(dict_list[lname]))\n    for lname in dict_list.keys():\n        ll = len(dict_list[lname])\n        if  ll < lmax:\n            dict_list[lname] += [padel] * (lmax - ll)\n    return dict_list\n\npad_dict_list(launch_dict,0)\ndf=pd.DataFrame(launch_dict)\ndf.head()",
            "execution_count": 14,
            "outputs": [
                {
                    "output_type": "execute_result",
                    "execution_count": 14,
                    "data": {
                        "text/plain": "  Flight No. Launch site                               Payload Payload mass  \\\n0          1       CCAFS  Dragon Spacecraft Qualification Unit            0   \n1          2       CCAFS                                Dragon            0   \n2          3       CCAFS                                Dragon       525 kg   \n3          4       CCAFS                          SpaceX CRS-1     4,700 kg   \n4          5       CCAFS                          SpaceX CRS-2     4,877 kg   \n\n  Orbit          Customer Launch outcome Version Booster Booster landing  \\\n0   LEO            SpaceX      Success\\n  F9 v1.0B0003.1         Failure   \n1   LEO  NASA (COTS)\\nNRO        Success  F9 v1.0B0004.1         Failure   \n2   LEO       NASA (COTS)        Success  F9 v1.0B0005.1    No attempt\\n   \n3   LEO        NASA (CRS)      Success\\n  F9 v1.0B0006.1      No attempt   \n4   LEO        NASA (CRS)      Success\\n  F9 v1.0B0007.1    No attempt\\n   \n\n              Date   Time  \n0      4 June 2010  18:45  \n1  8 December 2010  15:43  \n2      22 May 2012  07:44  \n3   8 October 2012  00:35  \n4     1 March 2013  15:10  ",
                        "text/html": "<div>\n<style scoped>\n    .dataframe tbody tr th:only-of-type {\n        vertical-align: middle;\n    }\n\n    .dataframe tbody tr th {\n        vertical-align: top;\n    }\n\n    .dataframe thead th {\n        text-align: right;\n    }\n</style>\n<table border=\"1\" class=\"dataframe\">\n  <thead>\n    <tr style=\"text-align: right;\">\n      <th></th>\n      <th>Flight No.</th>\n      <th>Launch site</th>\n      <th>Payload</th>\n      <th>Payload mass</th>\n      <th>Orbit</th>\n      <th>Customer</th>\n      <th>Launch outcome</th>\n      <th>Version Booster</th>\n      <th>Booster landing</th>\n      <th>Date</th>\n      <th>Time</th>\n    </tr>\n  </thead>\n  <tbody>\n    <tr>\n      <th>0</th>\n      <td>1</td>\n      <td>CCAFS</td>\n      <td>Dragon Spacecraft Qualification Unit</td>\n      <td>0</td>\n      <td>LEO</td>\n      <td>SpaceX</td>\n      <td>Success\\n</td>\n      <td>F9 v1.0B0003.1</td>\n      <td>Failure</td>\n      <td>4 June 2010</td>\n      <td>18:45</td>\n    </tr>\n    <tr>\n      <th>1</th>\n      <td>2</td>\n      <td>CCAFS</td>\n      <td>Dragon</td>\n      <td>0</td>\n      <td>LEO</td>\n      <td>NASA (COTS)\\nNRO</td>\n      <td>Success</td>\n      <td>F9 v1.0B0004.1</td>\n      <td>Failure</td>\n      <td>8 December 2010</td>\n      <td>15:43</td>\n    </tr>\n    <tr>\n      <th>2</th>\n      <td>3</td>\n      <td>CCAFS</td>\n      <td>Dragon</td>\n      <td>525 kg</td>\n      <td>LEO</td>\n      <td>NASA (COTS)</td>\n      <td>Success</td>\n      <td>F9 v1.0B0005.1</td>\n      <td>No attempt\\n</td>\n      <td>22 May 2012</td>\n      <td>07:44</td>\n    </tr>\n    <tr>\n      <th>3</th>\n      <td>4</td>\n      <td>CCAFS</td>\n      <td>SpaceX CRS-1</td>\n      <td>4,700 kg</td>\n      <td>LEO</td>\n      <td>NASA (CRS)</td>\n      <td>Success\\n</td>\n      <td>F9 v1.0B0006.1</td>\n      <td>No attempt</td>\n      <td>8 October 2012</td>\n      <td>00:35</td>\n    </tr>\n    <tr>\n      <th>4</th>\n      <td>5</td>\n      <td>CCAFS</td>\n      <td>SpaceX CRS-2</td>\n      <td>4,877 kg</td>\n      <td>LEO</td>\n      <td>NASA (CRS)</td>\n      <td>Success\\n</td>\n      <td>F9 v1.0B0007.1</td>\n      <td>No attempt\\n</td>\n      <td>1 March 2013</td>\n      <td>15:10</td>\n    </tr>\n  </tbody>\n</table>\n</div>"
                    },
                    "metadata": {}
                }
            ]
        },
        {
            "metadata": {},
            "cell_type": "markdown",
            "source": "We can now export it to a <b>CSV</b> for the next section, but to make the answers consistent and in case you have difficulties finishing this lab.\n\nFollowing labs will be using a provided dataset to make each lab independent.\n"
        },
        {
            "metadata": {},
            "cell_type": "markdown",
            "source": "<code>df.to_csv('spacex_web_scraped.csv', index=False)</code>\n"
        },
        {
            "metadata": {},
            "cell_type": "code",
            "source": "df.to_csv('spacex_web_scraped.csv', index=False)",
            "execution_count": 15,
            "outputs": []
        },
        {
            "metadata": {},
            "cell_type": "markdown",
            "source": "## Authors\n"
        },
        {
            "metadata": {},
            "cell_type": "markdown",
            "source": "<a href=\"https://www.linkedin.com/in/yan-luo-96288783/?utm_medium=Exinfluencer&utm_source=Exinfluencer&utm_content=000026UJ&utm_term=10006555&utm_id=NA-SkillsNetwork-Channel-SkillsNetworkCoursesIBMDS0321ENSkillsNetwork26802033-2022-01-01\">Yan Luo</a>\n"
        },
        {
            "metadata": {},
            "cell_type": "markdown",
            "source": "<a href=\"https://www.linkedin.com/in/nayefaboutayoun/?utm_medium=Exinfluencer&utm_source=Exinfluencer&utm_content=000026UJ&utm_term=10006555&utm_id=NA-SkillsNetwork-Channel-SkillsNetworkCoursesIBMDS0321ENSkillsNetwork26802033-2022-01-01\">Nayef Abou Tayoun</a>\n"
        },
        {
            "metadata": {},
            "cell_type": "markdown",
            "source": "## Change Log\n"
        },
        {
            "metadata": {},
            "cell_type": "markdown",
            "source": "| Date (YYYY-MM-DD) | Version | Changed By | Change Description          |\n| ----------------- | ------- | ---------- | --------------------------- |\n| 2021-06-09        | 1.0     | Yan Luo    | Tasks updates               |\n| 2020-11-10        | 1.0     | Nayef      | Created the initial version |\n"
        },
        {
            "metadata": {},
            "cell_type": "markdown",
            "source": "Copyright \u00a9 2021 IBM Corporation. All rights reserved.\n"
        }
    ],
    "metadata": {
        "kernelspec": {
            "name": "python3",
            "display_name": "Python 3.9",
            "language": "python"
        },
        "language_info": {
            "name": "python",
            "version": "3.9.13",
            "mimetype": "text/x-python",
            "codemirror_mode": {
                "name": "ipython",
                "version": 3
            },
            "pygments_lexer": "ipython3",
            "nbconvert_exporter": "python",
            "file_extension": ".py"
        }
    },
    "nbformat": 4,
    "nbformat_minor": 4
}