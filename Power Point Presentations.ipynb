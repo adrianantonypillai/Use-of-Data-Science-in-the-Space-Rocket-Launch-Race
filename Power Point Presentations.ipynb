{
    "cells": [
        {
            "metadata": {
                "collapsed": true
            },
            "cell_type": "markdown",
            "source": "[<H1> IBM Data Science Capstone Project Presentation - Power Point </H1>](https://1drv.ms/p/s!ApuU-3Io8riRdddjc7WTfPY41Rc?e=oV1w4H)"
        },
        {
            "metadata": {},
            "cell_type": "markdown",
            "source": "[<H1> IBM Data Science Capstone Project Presentation - PDF </H1>](https://1drv.ms/b/s!ApuU-3Io8riReVz1bVdWK1NgETg?e=er5pec)"
        }
    ],
    "metadata": {
        "kernelspec": {
            "name": "python3",
            "display_name": "Python 3.9",
            "language": "python"
        },
        "language_info": {
            "name": "python",
            "version": "3.9.13",
            "mimetype": "text/x-python",
            "codemirror_mode": {
                "name": "ipython",
                "version": 3
            },
            "pygments_lexer": "ipython3",
            "nbconvert_exporter": "python",
            "file_extension": ".py"
        }
    },
    "nbformat": 4,
    "nbformat_minor": 1
}