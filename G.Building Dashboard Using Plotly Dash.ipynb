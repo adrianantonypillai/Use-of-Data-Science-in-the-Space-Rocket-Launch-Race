{
    "cells": [
        {
            "cell_type": "markdown",
            "metadata": {
                "collapsed": true
            },
            "source": "## Install Python Packages"
        },
        {
            "cell_type": "code",
            "execution_count": 1,
            "metadata": {},
            "outputs": [
                {
                    "name": "stdout",
                    "output_type": "stream",
                    "text": "Collecting dash\n  Downloading dash-2.7.0-py3-none-any.whl (9.9 MB)\n\u001b[K     |\u2588\u2588\u2588\u2588\u2588\u2588\u2588\u2588\u2588\u2588\u2588\u2588\u2588\u2588\u2588\u2588\u2588\u2588\u2588\u2588\u2588\u2588\u2588\u2588\u2588\u2588\u2588\u2588\u2588\u2588\u2588\u2588| 9.9 MB 29.0 MB/s eta 0:00:01\n\u001b[?25hCollecting dash-table==5.0.0\n  Downloading dash_table-5.0.0-py3-none-any.whl (3.9 kB)\nRequirement already satisfied: plotly>=5.0.0 in /opt/conda/envs/Python-3.9/lib/python3.9/site-packages (from dash) (5.1.0)\nCollecting Flask>=1.0.4\n  Downloading Flask-2.2.2-py3-none-any.whl (101 kB)\n\u001b[K     |\u2588\u2588\u2588\u2588\u2588\u2588\u2588\u2588\u2588\u2588\u2588\u2588\u2588\u2588\u2588\u2588\u2588\u2588\u2588\u2588\u2588\u2588\u2588\u2588\u2588\u2588\u2588\u2588\u2588\u2588\u2588\u2588| 101 kB 36.4 MB/s ta 0:00:01\n\u001b[?25hCollecting dash-core-components==2.0.0\n  Downloading dash_core_components-2.0.0-py3-none-any.whl (3.8 kB)\nCollecting dash-html-components==2.0.0\n  Downloading dash_html_components-2.0.0-py3-none-any.whl (4.1 kB)\nCollecting Werkzeug>=2.2.2\n  Downloading Werkzeug-2.2.2-py3-none-any.whl (232 kB)\n\u001b[K     |\u2588\u2588\u2588\u2588\u2588\u2588\u2588\u2588\u2588\u2588\u2588\u2588\u2588\u2588\u2588\u2588\u2588\u2588\u2588\u2588\u2588\u2588\u2588\u2588\u2588\u2588\u2588\u2588\u2588\u2588\u2588\u2588| 232 kB 80.7 MB/s eta 0:00:01\n\u001b[?25hRequirement already satisfied: importlib-metadata>=3.6.0 in /opt/conda/envs/Python-3.9/lib/python3.9/site-packages (from Flask>=1.0.4->dash) (4.8.2)\nRequirement already satisfied: Jinja2>=3.0 in /opt/conda/envs/Python-3.9/lib/python3.9/site-packages (from Flask>=1.0.4->dash) (3.0.2)\nRequirement already satisfied: click>=8.0 in /opt/conda/envs/Python-3.9/lib/python3.9/site-packages (from Flask>=1.0.4->dash) (8.0.4)\nCollecting itsdangerous>=2.0\n  Downloading itsdangerous-2.1.2-py3-none-any.whl (15 kB)\nRequirement already satisfied: zipp>=0.5 in /opt/conda/envs/Python-3.9/lib/python3.9/site-packages (from importlib-metadata>=3.6.0->Flask>=1.0.4->dash) (3.6.0)\nRequirement already satisfied: MarkupSafe>=2.0 in /opt/conda/envs/Python-3.9/lib/python3.9/site-packages (from Jinja2>=3.0->Flask>=1.0.4->dash) (2.0.1)\nRequirement already satisfied: tenacity>=6.2.0 in /opt/conda/envs/Python-3.9/lib/python3.9/site-packages (from plotly>=5.0.0->dash) (8.0.1)\nRequirement already satisfied: six in /opt/conda/envs/Python-3.9/lib/python3.9/site-packages (from plotly>=5.0.0->dash) (1.15.0)\nCollecting MarkupSafe>=2.0\n  Downloading MarkupSafe-2.1.1-cp39-cp39-manylinux_2_17_x86_64.manylinux2014_x86_64.whl (25 kB)\nInstalling collected packages: MarkupSafe, Werkzeug, itsdangerous, Flask, dash-table, dash-html-components, dash-core-components, dash\n  Attempting uninstall: MarkupSafe\n    Found existing installation: MarkupSafe 2.0.1\n    Uninstalling MarkupSafe-2.0.1:\n      Successfully uninstalled MarkupSafe-2.0.1\n  Attempting uninstall: Werkzeug\n    Found existing installation: Werkzeug 2.0.2\n    Uninstalling Werkzeug-2.0.2:\n      Successfully uninstalled Werkzeug-2.0.2\nSuccessfully installed Flask-2.2.2 MarkupSafe-2.1.1 Werkzeug-2.2.2 dash-2.7.0 dash-core-components-2.0.0 dash-html-components-2.0.0 dash-table-5.0.0 itsdangerous-2.1.2\nCollecting jupyter_dash\n  Downloading jupyter_dash-0.4.2-py3-none-any.whl (23 kB)\nRequirement already satisfied: nest-asyncio in /opt/conda/envs/Python-3.9/lib/python3.9/site-packages (from jupyter_dash) (1.5.1)\nCollecting retrying\n  Downloading retrying-1.3.4-py3-none-any.whl (11 kB)\nCollecting ansi2html\n  Downloading ansi2html-1.8.0-py3-none-any.whl (16 kB)\nRequirement already satisfied: requests in /opt/conda/envs/Python-3.9/lib/python3.9/site-packages (from jupyter_dash) (2.26.0)\nRequirement already satisfied: dash in /opt/conda/envs/Python-3.9/lib/python3.9/site-packages (from jupyter_dash) (2.7.0)\nRequirement already satisfied: flask in /opt/conda/envs/Python-3.9/lib/python3.9/site-packages (from jupyter_dash) (2.2.2)\nRequirement already satisfied: ipykernel in /opt/conda/envs/Python-3.9/lib/python3.9/site-packages (from jupyter_dash) (6.4.1)\nRequirement already satisfied: ipython in /opt/conda/envs/Python-3.9/lib/python3.9/site-packages (from jupyter_dash) (7.31.1)\nRequirement already satisfied: dash-html-components==2.0.0 in /opt/conda/envs/Python-3.9/lib/python3.9/site-packages (from dash->jupyter_dash) (2.0.0)\nRequirement already satisfied: dash-table==5.0.0 in /opt/conda/envs/Python-3.9/lib/python3.9/site-packages (from dash->jupyter_dash) (5.0.0)\nRequirement already satisfied: plotly>=5.0.0 in /opt/conda/envs/Python-3.9/lib/python3.9/site-packages (from dash->jupyter_dash) (5.1.0)\nRequirement already satisfied: dash-core-components==2.0.0 in /opt/conda/envs/Python-3.9/lib/python3.9/site-packages (from dash->jupyter_dash) (2.0.0)\nRequirement already satisfied: importlib-metadata>=3.6.0 in /opt/conda/envs/Python-3.9/lib/python3.9/site-packages (from flask->jupyter_dash) (4.8.2)\nRequirement already satisfied: itsdangerous>=2.0 in /opt/conda/envs/Python-3.9/lib/python3.9/site-packages (from flask->jupyter_dash) (2.1.2)\nRequirement already satisfied: Jinja2>=3.0 in /opt/conda/envs/Python-3.9/lib/python3.9/site-packages (from flask->jupyter_dash) (3.0.2)\nRequirement already satisfied: Werkzeug>=2.2.2 in /opt/conda/envs/Python-3.9/lib/python3.9/site-packages (from flask->jupyter_dash) (2.2.2)\nRequirement already satisfied: click>=8.0 in /opt/conda/envs/Python-3.9/lib/python3.9/site-packages (from flask->jupyter_dash) (8.0.4)\nRequirement already satisfied: zipp>=0.5 in /opt/conda/envs/Python-3.9/lib/python3.9/site-packages (from importlib-metadata>=3.6.0->flask->jupyter_dash) (3.6.0)\nRequirement already satisfied: MarkupSafe>=2.0 in /opt/conda/envs/Python-3.9/lib/python3.9/site-packages (from Jinja2>=3.0->flask->jupyter_dash) (2.1.1)\nRequirement already satisfied: tenacity>=6.2.0 in /opt/conda/envs/Python-3.9/lib/python3.9/site-packages (from plotly>=5.0.0->dash->jupyter_dash) (8.0.1)\nRequirement already satisfied: six in /opt/conda/envs/Python-3.9/lib/python3.9/site-packages (from plotly>=5.0.0->dash->jupyter_dash) (1.15.0)\nRequirement already satisfied: ipython-genutils in /opt/conda/envs/Python-3.9/lib/python3.9/site-packages (from ipykernel->jupyter_dash) (0.2.0)\nRequirement already satisfied: tornado<7.0,>=4.2 in /opt/conda/envs/Python-3.9/lib/python3.9/site-packages (from ipykernel->jupyter_dash) (6.1)\nRequirement already satisfied: traitlets<6.0,>=4.1.0 in /opt/conda/envs/Python-3.9/lib/python3.9/site-packages (from ipykernel->jupyter_dash) (5.1.1)\nRequirement already satisfied: jupyter-client<8.0 in /opt/conda/envs/Python-3.9/lib/python3.9/site-packages (from ipykernel->jupyter_dash) (7.0.6)\nRequirement already satisfied: matplotlib-inline<0.2.0,>=0.1.0 in /opt/conda/envs/Python-3.9/lib/python3.9/site-packages (from ipykernel->jupyter_dash) (0.1.2)\nRequirement already satisfied: debugpy<2.0,>=1.0.0 in /opt/conda/envs/Python-3.9/lib/python3.9/site-packages (from ipykernel->jupyter_dash) (1.5.1)\nRequirement already satisfied: decorator in /opt/conda/envs/Python-3.9/lib/python3.9/site-packages (from ipython->jupyter_dash) (5.1.0)\nRequirement already satisfied: prompt-toolkit!=3.0.0,!=3.0.1,<3.1.0,>=2.0.0 in /opt/conda/envs/Python-3.9/lib/python3.9/site-packages (from ipython->jupyter_dash) (3.0.20)\nRequirement already satisfied: pexpect>4.3 in /opt/conda/envs/Python-3.9/lib/python3.9/site-packages (from ipython->jupyter_dash) (4.8.0)\nRequirement already satisfied: pickleshare in /opt/conda/envs/Python-3.9/lib/python3.9/site-packages (from ipython->jupyter_dash) (0.7.5)\nRequirement already satisfied: pygments in /opt/conda/envs/Python-3.9/lib/python3.9/site-packages (from ipython->jupyter_dash) (2.10.0)\nRequirement already satisfied: jedi>=0.16 in /opt/conda/envs/Python-3.9/lib/python3.9/site-packages (from ipython->jupyter_dash) (0.18.0)\nRequirement already satisfied: backcall in /opt/conda/envs/Python-3.9/lib/python3.9/site-packages (from ipython->jupyter_dash) (0.2.0)\nRequirement already satisfied: setuptools>=18.5 in /opt/conda/envs/Python-3.9/lib/python3.9/site-packages (from ipython->jupyter_dash) (58.0.4)\nRequirement already satisfied: parso<0.9.0,>=0.8.0 in /opt/conda/envs/Python-3.9/lib/python3.9/site-packages (from jedi>=0.16->ipython->jupyter_dash) (0.8.3)\nRequirement already satisfied: jupyter-core>=4.6.0 in /opt/conda/envs/Python-3.9/lib/python3.9/site-packages (from jupyter-client<8.0->ipykernel->jupyter_dash) (4.9.1)\nRequirement already satisfied: python-dateutil>=2.1 in /opt/conda/envs/Python-3.9/lib/python3.9/site-packages (from jupyter-client<8.0->ipykernel->jupyter_dash) (2.8.2)\nRequirement already satisfied: pyzmq>=13 in /opt/conda/envs/Python-3.9/lib/python3.9/site-packages (from jupyter-client<8.0->ipykernel->jupyter_dash) (22.3.0)\nRequirement already satisfied: entrypoints in /opt/conda/envs/Python-3.9/lib/python3.9/site-packages (from jupyter-client<8.0->ipykernel->jupyter_dash) (0.3)\nRequirement already satisfied: ptyprocess>=0.5 in /opt/conda/envs/Python-3.9/lib/python3.9/site-packages (from pexpect>4.3->ipython->jupyter_dash) (0.7.0)\nRequirement already satisfied: wcwidth in /opt/conda/envs/Python-3.9/lib/python3.9/site-packages (from prompt-toolkit!=3.0.0,!=3.0.1,<3.1.0,>=2.0.0->ipython->jupyter_dash) (0.2.5)\nRequirement already satisfied: idna<4,>=2.5 in /opt/conda/envs/Python-3.9/lib/python3.9/site-packages (from requests->jupyter_dash) (3.3)\nRequirement already satisfied: certifi>=2017.4.17 in /opt/conda/envs/Python-3.9/lib/python3.9/site-packages (from requests->jupyter_dash) (2022.9.24)\nRequirement already satisfied: urllib3<1.27,>=1.21.1 in /opt/conda/envs/Python-3.9/lib/python3.9/site-packages (from requests->jupyter_dash) (1.26.7)\nRequirement already satisfied: charset-normalizer~=2.0.0 in /opt/conda/envs/Python-3.9/lib/python3.9/site-packages (from requests->jupyter_dash) (2.0.4)\nInstalling collected packages: retrying, ansi2html, jupyter-dash\nSuccessfully installed ansi2html-1.8.0 jupyter-dash-0.4.2 retrying-1.3.4\nRequirement already satisfied: plotly in /opt/conda/envs/Python-3.9/lib/python3.9/site-packages (5.1.0)\nCollecting plotly\n  Downloading plotly-5.11.0-py2.py3-none-any.whl (15.3 MB)\n\u001b[K     |\u2588\u2588\u2588\u2588\u2588\u2588\u2588\u2588\u2588\u2588\u2588\u2588\u2588\u2588\u2588\u2588\u2588\u2588\u2588\u2588\u2588\u2588\u2588\u2588\u2588\u2588\u2588\u2588\u2588\u2588\u2588\u2588| 15.3 MB 36.8 MB/s eta 0:00:01\n\u001b[?25hRequirement already satisfied: tenacity>=6.2.0 in /opt/conda/envs/Python-3.9/lib/python3.9/site-packages (from plotly) (8.0.1)\nInstalling collected packages: plotly\n  Attempting uninstall: plotly\n    Found existing installation: plotly 5.1.0\n    Uninstalling plotly-5.1.0:\n      Successfully uninstalled plotly-5.1.0\nSuccessfully installed plotly-5.11.0\n"
                }
            ],
            "source": "!pip install -U dash\n!pip install jupyter_dash\n!pip install --upgrade plotly"
        },
        {
            "cell_type": "code",
            "execution_count": 2,
            "metadata": {},
            "outputs": [
                {
                    "name": "stdout",
                    "output_type": "stream",
                    "text": "Package                       Version\r\n----------------------------- -------------------\r\nabsl-py                       0.12.0\r\naiohttp                       3.8.1\r\naiosignal                     1.2.0\r\nansi2html                     1.8.0\r\nappdirs                       1.4.4\r\nargon2-cffi                   20.1.0\r\nastropy                       5.0\r\nastunparse                    1.6.3\r\nasync-generator               1.10\r\nasync-timeout                 4.0.1\r\nattrs                         21.2.0\r\nautoai-libs                   1.13.6\r\nautoai-ts-libs                1.1.9\r\nautovizwidget                 0.18.0\r\nav                            8.0.3\r\nazure-core                    1.21.0\r\nazure-cosmos                  4.2.0\r\nbackcall                      0.2.0\r\nbeautifulsoup4                4.10.0\r\nbiopython                     1.78\r\nblack                         19.10b0\r\nbleach                        4.0.0\r\nblinker                       1.4\r\nbokeh                         2.3.3\r\nboto3                         1.18.21\r\nbotocore                      1.21.41\r\nBottleneck                    1.3.2\r\nbrotlipy                      0.7.0\r\nca-data-connector             11.2.4.220902122555\r\ncached-property               1.5.2\r\ncachetools                    4.2.2\r\ncassandra-driver              3.25.0\r\ncertifi                       2022.9.24\r\ncffi                          1.14.6\r\ncharset-normalizer            2.0.4\r\nclick                         8.0.4\r\ncloudpickle                   1.6.0\r\ncplex                         20.1.0.2\r\ncryptography                  3.4.8\r\ncx-Oracle                     8.3.0\r\ncycler                        0.11.0\r\ncytoolz                       0.11.0\r\ndash                          2.7.0\r\ndash-core-components          2.0.0\r\ndash-html-components          2.0.0\r\ndash-table                    5.0.0\r\ndask                          2021.10.0\r\ndebugpy                       1.5.1\r\ndecision-optimization-client  1.0.0\r\ndecorator                     5.1.0\r\ndefusedxml                    0.7.1\r\ndill                          0.3.4\r\ndm-tree                       0.1.5\r\ndocplex                       2.22.213\r\nentrypoints                   0.3\r\net-xmlfile                    1.1.0\r\nFlask                         2.2.2\r\nflatbuffers                   2.0\r\nfonttools                     4.25.0\r\nfrozenlist                    1.2.0\r\nfsspec                        2021.10.1\r\nfuture                        0.18.2\r\ngast                          0.4.0\r\ngensim                        4.1.2\r\ngeographiclib                 1.52\r\ngeomet                        0.2.1.post1\r\ngeopy                         2.2.0\r\ngmpy2                         2.0.8\r\ngoogle-auth                   1.23.0\r\ngoogle-auth-oauthlib          0.4.4\r\ngoogle-pasta                  0.2.0\r\ngoogleapis-common-protos      1.52.0\r\ngraphviz                      0.19\r\ngreenery                      3.3.2\r\ngreenlet                      1.1.1\r\ngrpcio                        1.42.0\r\nh5py                          3.2.1\r\nhdijupyterutils               0.19.0\r\nhtml5lib                      1.1\r\nhyperopt                      0.2.5\r\nibm-cloud-sdk-core            3.10.1\r\nibm-cos-sdk                   2.11.0\r\nibm-cos-sdk-core              2.11.0\r\nibm-cos-sdk-s3transfer        2.11.0\r\nibm-data-fabric-sdk           0.0.7\r\nibm-db                        3.1.3\r\nibm-db-sa                     0.3.8\r\nibm-watson-machine-learning   1.0.257\r\nibm-watson-openscale          3.0.26\r\nibm-watson-studio-lib         3.0.10\r\nidna                          3.3\r\nimagecodecs                   2021.8.26\r\nimageio                       2.9.0\r\nimportlib-metadata            4.8.2\r\niniconfig                     1.1.1\r\nipykernel                     6.4.1\r\nipython                       7.31.1\r\nipython-genutils              0.2.0\r\nipywidgets                    7.6.5\r\nitc-utils                     0.1.14\r\nitsdangerous                  2.1.2\r\nJayDeBeApi                    1.2.3\r\njedi                          0.18.0\r\nJinja2                        3.0.2\r\njmespath                      0.10.0\r\njoblib                        0.17.0\r\nJPype1                        1.3.0\r\njsonref                       0.2\r\njsonschema                    3.2.0\r\njsonsubschema                 0.0.6\r\njupyter                       1.0.0\r\njupyter-client                7.0.6\r\njupyter-console               6.4.0\r\njupyter-core                  4.9.1\r\njupyter-dash                  0.4.2\r\njupyterlab-pygments           0.1.2\r\njupyterlab-widgets            1.0.0\r\nkeras                         2.7.0\r\nKeras-Preprocessing           1.1.2\r\nkiwisolver                    1.3.1\r\nlale                          0.6.10\r\nlightgbm                      3.3.2\r\nllvmlite                      0.37.0\r\nlocket                        0.2.1\r\nlomond                        0.3.3\r\nlxml                          4.9.1\r\nMarkdown                      3.3.3\r\nMarkupSafe                    2.1.1\r\nmatplotlib                    3.5.0\r\nmatplotlib-inline             0.1.2\r\nmistune                       0.8.4\r\nmlxtend                       0.19.0\r\nmock                          4.0.3\r\nmpmath                        1.2.1\r\nmultidict                     5.2.0\r\nmunkres                       1.1.4\r\nmypy-extensions               0.4.3\r\nmysql-connector-python        8.0.31\r\nnbclient                      0.5.3\r\nnbconvert                     6.1.0\r\nnbformat                      5.1.3\r\nnest-asyncio                  1.5.1\r\nnetworkx                      2.6.3\r\nnose                          1.3.7\r\nnotebook                      6.4.11\r\nnumba                         0.54.1\r\nnumexpr                       2.8.1\r\nnumpy                         1.20.3\r\noauthlib                      3.2.1\r\nolefile                       0.46\r\nonnx                          1.10.2\r\nonnxconverter-common          1.9.0\r\nopenpyxl                      3.0.9\r\nopt-einsum                    3.3.0\r\npackaging                     21.3\r\npandas                        1.3.4\r\npandocfilters                 1.4.3\r\nparso                         0.8.3\r\npartd                         1.2.0\r\npathspec                      0.7.0\r\npatsy                         0.5.2\r\npexpect                       4.8.0\r\npickleshare                   0.7.5\r\nPillow                        9.0.1\r\npip                           21.2.4\r\nplotly                        5.11.0\r\npluggy                        1.0.0\r\nportion                       2.2.0\r\nportpicker                    1.3.1\r\nproject-lib                   2.0.7\r\nprometheus-client             0.12.0\r\nprompt-toolkit                3.0.20\r\nprotobuf                      3.19.1\r\npsutil                        5.8.0\r\npsycopg2                      2.8.6\r\nptyprocess                    0.7.0\r\npy                            1.10.0\r\npy4j                          0.10.9.2\r\npyarrow                       5.0.0\r\npyasn1                        0.4.8\r\npyasn1-modules                0.2.8\r\npycparser                     2.21\r\npycryptodome                  3.10.1\r\npycryptodomex                 3.10.1\r\npyDeprecate                   0.3.2\r\npyerfa                        2.0.0\r\nPygments                      2.10.0\r\nPyJWT                         2.4.0\r\npymssql                       2.2.3\r\npyodbc                        4.0.0-unsupported\r\npyOpenSSL                     21.0.0\r\npyparsing                     3.0.4\r\npyrsistent                    0.18.0\r\nPySocks                       1.7.1\r\npyspnego                      0.3.1\r\npytest                        6.2.5\r\npython-dateutil               2.8.2\r\npytorch-lightning             1.6.5\r\npytz                          2021.3\r\nPyWavelets                    1.1.1\r\nPyYAML                        5.4.1\r\npyzmq                         22.3.0\r\nqtconsole                     5.1.1\r\nQtPy                          1.10.0\r\nregex                         2021.11.2\r\nrequests                      2.26.0\r\nrequests-kerberos             0.14.0\r\nrequests-oauthlib             1.3.0\r\nretrying                      1.3.4\r\nrsa                           4.7.2\r\nruamel.yaml                   0.16.12\r\nruamel.yaml.clib              0.2.6\r\ns3transfer                    0.5.0\r\nscikit-image                  0.18.3\r\nscikit-learn                  1.0.2\r\nscipy                         1.7.3\r\nseaborn                       0.11.2\r\nSend2Trash                    1.8.0\r\nsentencepiece                 0.1.96\r\nsetuptools                    58.0.4\r\nsimplejson                    3.17.6\r\nsix                           1.15.0\r\nskl2onnx                      1.10.4\r\nsmart-open                    5.2.1\r\nsnapml                        1.8.8\r\nsnowballstemmer               2.2.0\r\nsortedcontainers              2.4.0\r\nsoupsieve                     2.3.1\r\nsparkmagic                    0.19.0\r\nSQLAlchemy                    1.4.27\r\nstatsmodels                   0.12.2\r\nsympy                         1.9\r\ntables                        3.6.1\r\ntabulate                      0.8.9\r\ntenacity                      8.0.1\r\ntensorboard                   2.7.0\r\ntensorboard-data-server       0.6.1\r\ntensorboard-plugin-wit        1.6.0\r\ntensorflow                    2.7.2\r\ntensorflow-addons             0.15.0\r\ntensorflow-estimator          2.7.0\r\ntensorflow-hub                0.12.0\r\ntensorflow-io-gcs-filesystem  0.23.1\r\ntensorflow-metadata           1.5.0\r\ntensorflow-probability        0.15.0\r\ntensorflow-text               2.7.3\r\ntermcolor                     1.1.0\r\nterminado                     0.9.4\r\ntestpath                      0.5.0\r\ntf-model-optimization-nightly 0.7.0.dev20220726\r\ntf2onnx                       1.9.3\r\nthreadpoolctl                 2.2.0\r\ntifffile                      2021.7.2\r\ntoml                          0.10.2\r\ntoolz                         0.11.2\r\ntorch                         1.10.2\r\ntorchmetrics                  0.8.1\r\ntorchtext                     0.11.0a0+92f4d15\r\ntorchvision                   0.11.3\r\ntornado                       6.1\r\ntqdm                          4.62.3\r\ntraitlets                     5.1.1\r\ntyped-ast                     1.4.3\r\ntypeguard                     2.12.0\r\ntyping_extensions             4.1.1\r\nurllib3                       1.26.7\r\nwcwidth                       0.2.5\r\nwebencodings                  0.5.1\r\nWerkzeug                      2.2.2\r\nwheel                         0.37.0\r\nwidgetsnbextension            3.5.1\r\nwrapt                         1.12.1\r\nxgboost                       1.5.2\r\nxlrd                          2.0.1\r\nXlsxWriter                    3.0.2\r\nyarl                          1.6.3\r\nzipp                          3.6.0\r\n"
                }
            ],
            "source": "!pip list"
        },
        {
            "cell_type": "code",
            "execution_count": 3,
            "metadata": {},
            "outputs": [],
            "source": "# Import URL browser Display Module\nfrom IPython.display import IFrame"
        },
        {
            "cell_type": "code",
            "execution_count": 4,
            "metadata": {},
            "outputs": [
                {
                    "name": "stderr",
                    "output_type": "stream",
                    "text": "/tmp/wsuser/ipykernel_209/2979838185.py:3: UserWarning: \nThe dash_html_components package is deprecated. Please replace\n`import dash_html_components as html` with `from dash import html`\n  import dash_html_components as html\n/tmp/wsuser/ipykernel_209/2979838185.py:4: UserWarning: \nThe dash_core_components package is deprecated. Please replace\n`import dash_core_components as dcc` with `from dash import dcc`\n  import dash_core_components as dcc\n"
                }
            ],
            "source": "import pandas as pd\nimport dash\nimport dash_html_components as html\nimport dash_core_components as dcc\nfrom dash.dependencies import Input, Output\nfrom jupyter_dash import JupyterDash\nimport plotly.graph_objects as go\nimport plotly.express as px"
        },
        {
            "cell_type": "markdown",
            "metadata": {},
            "source": "## Read the airline data into pandas dataframe"
        },
        {
            "cell_type": "code",
            "execution_count": 5,
            "metadata": {},
            "outputs": [],
            "source": "spacex_df = pd.read_csv(\"https://cf-courses-data.s3.us.cloud-object-storage.appdomain.cloud/IBM-DS0321EN-SkillsNetwork/datasets/spacex_launch_dash.csv\")\nmax_payload = spacex_df['Payload Mass (kg)'].max()\nmin_payload = spacex_df['Payload Mass (kg)'].min()"
        },
        {
            "cell_type": "markdown",
            "metadata": {},
            "source": "### Create Plotly Dash Application"
        },
        {
            "cell_type": "code",
            "execution_count": 6,
            "metadata": {},
            "outputs": [],
            "source": "app = JupyterDash(__name__)"
        },
        {
            "cell_type": "markdown",
            "metadata": {},
            "source": "### Create an application Layout using Plotly Dash and  add Drop Down"
        },
        {
            "cell_type": "code",
            "execution_count": 7,
            "metadata": {},
            "outputs": [],
            "source": "\n\n# Create an app layout\napp.layout = html.Div(children=[html.H1('SpaceX Launch Records Dashboard',\n                                        style={'textAlign': 'center', 'color': '#503D36',\n                                               'font-size': 40}),\n                                # TASK 1: Add a dropdown list to enable Launch Site selection\n                                # The default select value is for ALL sites\n                                dcc.Dropdown(id='site-dropdown',\n                                            options=[\n                                                {'label': 'All Sites', 'value': 'ALL'},\n                                                {'label': 'CCAFS LC-40', 'value': 'CCAFS LC-40'},\n                                                {'label': 'VAFB SLC-4E', 'value': 'VAFB SLC-4E'},\n                                                {'label': 'KSC LC-39A', 'value': 'KSC LC-39A'},\n                                                {'label': 'CCAFS SLC-40', 'value': 'CCAFS SLC-40'},\n                                            ],\n                                            value='ALL',\n                                            placeholder=\"Select a Launch Site here\",\n                                            searchable=True\n                                            ),\n                                html.Br(),\n\n                                # TASK 2: Add a pie chart to show the total successful launches count for all sites\n                                # If a specific launch site was selected, show the Success vs. Failed counts for the site\n                                html.Div(dcc.Graph(id='success-pie-chart')),\n                                html.Br(),\n\n                                html.P(\"Payload range (Kg):\"),\n                                # TASK 3: Add a slider to select payload range\n                                #dcc.RangeSlider(id='payload-slider',...)\n                                \n                                dcc.RangeSlider(id='payload-slider',\n                                                min=0, max=10000, step=1000,\n                                                marks={0: '0', 2500: '2500', 5000: '5000', 7500: '7500', 10000: '10000'},\n                                                value=[min_payload, max_payload]),\n                                # TASK 4: Add a scatter chart to show the correlation between payload and launch success\n                                html.Div(dcc.Graph(id='success-payload-scatter-chart')),\n                                ])"
        },
        {
            "cell_type": "markdown",
            "metadata": {},
            "source": "### Add Call Back Function for drop down list visualised through Pie Chart"
        },
        {
            "cell_type": "code",
            "execution_count": 8,
            "metadata": {},
            "outputs": [],
            "source": "# TASK 2:\n# Function decorator to specify function input and output\n@app.callback(Output(component_id='success-pie-chart', component_property='figure'),\n              Input(component_id='site-dropdown', component_property='value'))\ndef get_pie_chart(entered_site):\n    filtered_df = spacex_df\n    if entered_site == 'ALL':\n        fig = px.pie(filtered_df, values='class', \n        names='Launch Site', \n        title='Total Success Launches By Site')\n        return fig\n    else:\n        # return the outcomes piechart for a selected site\n        filtered_df = spacex_df[spacex_df['Launch Site'] == entered_site]\n        filtered_df = filtered_df.groupby(['Launch Site', 'class']).size().reset_index(name='class count')\n        fig = px.pie(filtered_df, values='class count', \n        names='class',\n        title='Total Success Launched for site {entered_site}')\n        return fig"
        },
        {
            "cell_type": "markdown",
            "metadata": {},
            "source": "##  Success Rate Per Launch Site"
        },
        {
            "cell_type": "code",
            "execution_count": 9,
            "metadata": {},
            "outputs": [
                {
                    "data": {
                        "text/html": "<div>\n<style scoped>\n    .dataframe tbody tr th:only-of-type {\n        vertical-align: middle;\n    }\n\n    .dataframe tbody tr th {\n        vertical-align: top;\n    }\n\n    .dataframe thead th {\n        text-align: right;\n    }\n</style>\n<table border=\"1\" class=\"dataframe\">\n  <thead>\n    <tr style=\"text-align: right;\">\n      <th></th>\n      <th>class</th>\n    </tr>\n    <tr>\n      <th>Launch Site</th>\n      <th></th>\n    </tr>\n  </thead>\n  <tbody>\n    <tr>\n      <th>CCAFS LC-40</th>\n      <td>0.269231</td>\n    </tr>\n    <tr>\n      <th>CCAFS SLC-40</th>\n      <td>0.428571</td>\n    </tr>\n    <tr>\n      <th>KSC LC-39A</th>\n      <td>0.769231</td>\n    </tr>\n    <tr>\n      <th>VAFB SLC-4E</th>\n      <td>0.400000</td>\n    </tr>\n  </tbody>\n</table>\n</div>",
                        "text/plain": "                 class\nLaunch Site           \nCCAFS LC-40   0.269231\nCCAFS SLC-40  0.428571\nKSC LC-39A    0.769231\nVAFB SLC-4E   0.400000"
                    },
                    "execution_count": 9,
                    "metadata": {},
                    "output_type": "execute_result"
                }
            ],
            "source": "spacex_df.pivot_table('class', index='Launch Site' )"
        },
        {
            "cell_type": "markdown",
            "metadata": {},
            "source": "## Call Back Function includes payload-slider visualised through Scatter Chart"
        },
        {
            "cell_type": "code",
            "execution_count": 10,
            "metadata": {},
            "outputs": [],
            "source": "# TASK 4:\n# Add a callback function for `site-dropdown` and `payload-slider` as inputs, `success-payload-scatter-chart` as output\n@app.callback(Output(component_id='success-payload-scatter-chart', component_property='figure'),\n              [Input(component_id='site-dropdown', component_property='value'), \n              Input(component_id='payload-slider', component_property='value')])\ndef get_scatter_chart(entered_site, payload):\n    low, high = payload\n    filtered_df = spacex_df[(spacex_df['Payload Mass (kg)'] > low) & (spacex_df['Payload Mass (kg)'] < high)]       \n    if entered_site == 'ALL':\n        fig = px.scatter(filtered_df, x='Payload Mass (kg)', y='class', \n        color='Booster Version Category',\n        title='Correlation between Payload and Success for all Sites')\n        return fig\n    else:\n        fig = px.scatter(filtered_df[filtered_df['Launch Site'] == entered_site],\n        x='Payload Mass (kg)', y='class',\n        color='Booster Version Category',\n        title=f'Correlation between Payload and Success for site {entered_site}')\n        return fig\n\n# Run the app\nif __name__ == '__main__':\n    app.run_server(mode='jupyterlab', port = 8090 ,dev_tools_ui=True, debug=True, dev_tools_hot_reload =True, threaded=True)"
        },
        {
            "cell_type": "code",
            "execution_count": 11,
            "metadata": {},
            "outputs": [
                {
                    "data": {
                        "text/html": "\n        <iframe\n            width=\"1500\"\n            height=\"1200\"\n            src=\"http://localhost:8090/\"\n            frameborder=\"0\"\n            allowfullscreen\n            \n        ></iframe>\n        ",
                        "text/plain": "<IPython.lib.display.IFrame at 0x7fe7b93dbbb0>"
                    },
                    "execution_count": 11,
                    "metadata": {},
                    "output_type": "execute_result"
                }
            ],
            "source": "url = 'http://localhost:8090/'\nIFrame(url, width=1500, height=1200)"
        }
    ],
    "metadata": {
        "kernelspec": {
            "display_name": "Python 3.9",
            "language": "python",
            "name": "python3"
        },
        "language_info": {
            "codemirror_mode": {
                "name": "ipython",
                "version": 3
            },
            "file_extension": ".py",
            "mimetype": "text/x-python",
            "name": "python",
            "nbconvert_exporter": "python",
            "pygments_lexer": "ipython3",
            "version": "3.9.13"
        }
    },
    "nbformat": 4,
    "nbformat_minor": 1
}